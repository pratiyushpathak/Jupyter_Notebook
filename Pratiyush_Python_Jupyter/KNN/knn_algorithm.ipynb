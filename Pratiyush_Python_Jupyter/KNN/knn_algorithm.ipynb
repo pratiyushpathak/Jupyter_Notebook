{
 "cells": [
  {
   "cell_type": "code",
   "execution_count": 6,
   "id": "4f7f48c5-ad74-4b50-8aea-515c9971089a",
   "metadata": {},
   "outputs": [
    {
     "name": "stdout",
     "output_type": "stream",
     "text": [
      "The value classified to Unknow point is: 0\n"
     ]
    }
   ],
   "source": [
    "import math\n",
    "def classify_A_Point(points, p, k):\n",
    "    distance = []\n",
    "    for group in points:\n",
    "        for feature in points[group]:\n",
    "            euclidean_distance = math.sqrt((feature[0]-p[0])**2 + (feature[1]-p[1])**2)\n",
    "            distance.append((euclidean_distance, group))\n",
    "    distance = sorted(distance)[:k]\n",
    "\n",
    "    freq1 = 0\n",
    "    freq2 = 0\n",
    "\n",
    "    for d in distance:\n",
    "        if d[1] == 0:\n",
    "            freq1 += 1\n",
    "        elif d[1] == 1:\n",
    "            freq2 += 1\n",
    "\n",
    "\n",
    "    return 0 if freq1>freq2 else 1\n",
    "\n",
    "\n",
    "def main():\n",
    "    points = {0:[(1,12),(2,5),(3,6),(3,10),(3.5,8),(2,11),(2,9),(1,7)],\n",
    "              1:[(5,3),(3,2),(1.5,9),(7,2),(6,1),(3.8,1),(5.6,4),(4,2),(2,5)]}\n",
    "    p = (2.5, 7)\n",
    "    k = 3\n",
    "\n",
    "    print('The value classified to Unknow point is: {}'.format(classify_A_Point(points, p, k)))\n",
    "\n",
    "if __name__ == '__main__':\n",
    "    main()"
   ]
  },
  {
   "cell_type": "code",
   "execution_count": 7,
   "id": "c2e91117-87c2-4449-bc69-b6addb248eab",
   "metadata": {},
   "outputs": [
    {
     "name": "stdout",
     "output_type": "stream",
     "text": [
      "The value classified to Unknow point is: 0\n"
     ]
    }
   ],
   "source": [
    "import math\n",
    "def classify_A_Point(points, p, k):\n",
    "    distance = []\n",
    "    for group in points:\n",
    "        for feature in points[group]:\n",
    "            euclidean_distance = math.sqrt((feature[0]-p[0])**2 + (feature[1]-p[1])**2)\n",
    "            distance.append((euclidean_distance, group))\n",
    "    distance = sorted(distance)[:k]\n",
    "\n",
    "    freq1 = 0\n",
    "    freq2 = 0\n",
    "\n",
    "    for d in distance:\n",
    "        if d[1] == 0:\n",
    "            freq1 += 1\n",
    "        elif d[1] == 1:\n",
    "            freq2 += 1\n",
    "\n",
    "\n",
    "    return 0 if freq1>freq2 else 1\n",
    "\n",
    "\n",
    "def main():\n",
    "    points = {0:[(1,2),(1,4),(1,6)],\n",
    "              1:[(3,2),(3,4),(3,6)]}\n",
    "    p = (2, 4)\n",
    "    k = 3\n",
    "\n",
    "    print('The value classified to Unknow point is: {}'.format(classify_A_Point(points, p, k)))\n",
    "\n",
    "if __name__ == '__main__':\n",
    "    main()"
   ]
  },
  {
   "cell_type": "code",
   "execution_count": 9,
   "id": "c50df679-32ce-4948-9068-a2e609ae9908",
   "metadata": {},
   "outputs": [
    {
     "data": {
      "image/png": "[encoded data removed]",
      "text/plain": [
       "<Figure size 640x480 with 1 Axes>"
      ]
     },
     "metadata": {},
     "output_type": "display_data"
    }
   ],
   "source": [
    "import matplotlib.pyplot as plt\n",
    "\n",
    "# Define your points\n",
    "points = {\n",
    "    0: [(1, 2), (1, 4), (1, 6)],\n",
    "    1: [(3, 2), (3, 4), (3, 6)],\n",
    "    2: [(2, 4)]\n",
    "}\n",
    "\n",
    "plt.figure()\n",
    "for key, point_list in points.items():\n",
    "    x_values = [point[0] for point in point_list]\n",
    "    y_values = [point[1] for point in point_list]\n",
    "    plt.scatter(x_values, y_values, label=f'Group {key}')\n",
    "\n",
    "plt.xlabel('X')\n",
    "plt.ylabel('Y')\n",
    "plt.title('Points Plot')\n",
    "plt.legend()\n",
    "\n",
    "plt.grid(True)\n",
    "plt.show()"
   ]
  },
  {
   "cell_type": "code",
   "execution_count": 1,
   "id": "3acdf233-08c9-41d2-bba3-a2fdb195db89",
   "metadata": {},
   "outputs": [
    {
     "ename": "ModuleNotFoundError",
     "evalue": "No module named 'pandas'",
     "output_type": "error",
     "traceback": [
      "\u001b[0;31m---------------------------------------------------------------------------\u001b[0m",
      "\u001b[0;31mModuleNotFoundError\u001b[0m                       Traceback (most recent call last)",
      "Cell \u001b[0;32mIn[1], line 3\u001b[0m\n\u001b[1;32m      1\u001b[0m \u001b[38;5;28;01mimport\u001b[39;00m \u001b[38;5;21;01mnumpy\u001b[39;00m \u001b[38;5;28;01mas\u001b[39;00m \u001b[38;5;21;01mnp\u001b[39;00m\n\u001b[1;32m      2\u001b[0m \u001b[38;5;28;01mimport\u001b[39;00m \u001b[38;5;21;01mmatplotlib\u001b[39;00m\u001b[38;5;21;01m.\u001b[39;00m\u001b[38;5;21;01mpyplot\u001b[39;00m \u001b[38;5;28;01mas\u001b[39;00m \u001b[38;5;21;01mmtp\u001b[39;00m\n\u001b[0;32m----> 3\u001b[0m \u001b[38;5;28;01mimport\u001b[39;00m \u001b[38;5;21;01mpandas\u001b[39;00m \u001b[38;5;28;01mas\u001b[39;00m \u001b[38;5;21;01mpd\u001b[39;00m\n\u001b[1;32m      5\u001b[0m data_set \u001b[38;5;241m=\u001b[39m pd\u001b[38;5;241m.\u001b[39mread_csv(\u001b[38;5;124m'\u001b[39m\u001b[38;5;124m/home/pratiyushp/Downloads/datasets/knn_data.csv\u001b[39m\u001b[38;5;124m'\u001b[39m)\n\u001b[1;32m      7\u001b[0m x \u001b[38;5;241m=\u001b[39m data_set\u001b[38;5;241m.\u001b[39miloc[:,[\u001b[38;5;241m2\u001b[39m,\u001b[38;5;241m3\u001b[39m]]\u001b[38;5;241m.\u001b[39mvalues\n",
      "\u001b[0;31mModuleNotFoundError\u001b[0m: No module named 'pandas'"
     ]
    }
   ],
   "source": [
    "import numpy as np\n",
    "import matplotlib.pyplot as mtp\n",
    "import pandas as pd\n",
    "\n",
    "data_set = pd.read_csv('/home/pratiyushp/Downloads/datasets/knn_data.csv')\n",
    "\n",
    "x = data_set.iloc[:,[2,3]].values\n",
    "y = data_set.iloc[:,4].values\n",
    "\n",
    "from sklearn.model_selection import train_test_split\n",
    "x_train, x_test, y_train, y_test = train_test_split(x, y, test_size = 0.25, random_state = 0)\n",
    "\n",
    "from sklearn.preprocessing import StandardScalar\n",
    "st_x = StandardScaler()\n",
    "x_train = st_x.fit_transform(x_train)\n",
    "x_test = st_x.transform(x_test)"
   ]
  },
  {
   "cell_type": "code",
   "execution_count": 2,
   "id": "592c8be9-ee8c-44f5-b1af-285aa4390a47",
   "metadata": {},
   "outputs": [
    {
     "ename": "SyntaxError",
     "evalue": "invalid syntax (4007692362.py, line 1)",
     "output_type": "error",
     "traceback": [
      "\u001b[0;36m  Cell \u001b[0;32mIn[2], line 1\u001b[0;36m\u001b[0m\n\u001b[0;31m    pip3 install pandas\u001b[0m\n\u001b[0m         ^\u001b[0m\n\u001b[0;31mSyntaxError\u001b[0m\u001b[0;31m:\u001b[0m invalid syntax\n"
     ]
    }
   ],
   "source": [
    "pip3 install pandas\n"
   ]
  },
  {
   "cell_type": "code",
   "execution_count": 3,
   "id": "7396aaae-28e8-4df5-8805-bf458b65d684",
   "metadata": {},
   "outputs": [
    {
     "name": "stdout",
     "output_type": "stream",
     "text": [
      "Retrieving notices: ...working... done\n",
      "Channels:\n",
      " - defaults\n",
      "Platform: linux-64\n",
      "Collecting package metadata (repodata.json): done\n",
      "Solving environment: done\n",
      "\n",
      "## Package Plan ##\n",
      "\n",
      "  environment location: /home/pratiyushp/anaconda3/envs/My_Workspace\n",
      "\n",
      "  added / updated specs:\n",
      "    - pandas\n",
      "\n",
      "\n",
      "The following packages will be downloaded:\n",
      "\n",
      "    package                    |            build\n",
      "    ---------------------------|-----------------\n",
      "    pandas-2.2.1               |  py311ha02d727_0        15.7 MB\n",
      "    ------------------------------------------------------------\n",
      "                                           Total:        15.7 MB\n",
      "\n",
      "The following NEW packages will be INSTALLED:\n",
      "\n",
      "  blas               pkgs/main/linux-64::blas-1.0-mkl \n",
      "  bottleneck         pkgs/main/linux-64::bottleneck-1.3.7-py311hf4808d0_0 \n",
      "  intel-openmp       pkgs/main/linux-64::intel-openmp-2023.1.0-hdb19cb5_46306 \n",
      "  mkl                pkgs/main/linux-64::mkl-2023.1.0-h213fc3f_46344 \n",
      "  mkl-service        pkgs/main/linux-64::mkl-service-2.4.0-py311h5eee18b_1 \n",
      "  mkl_fft            pkgs/main/linux-64::mkl_fft-1.3.8-py311h5eee18b_0 \n",
      "  mkl_random         pkgs/main/linux-64::mkl_random-1.2.4-py311hdb19cb5_0 \n",
      "  numexpr            pkgs/main/linux-64::numexpr-2.8.7-py311h65dcdc2_0 \n",
      "  numpy              pkgs/main/linux-64::numpy-1.26.4-py311h08b1b3b_0 \n",
      "  numpy-base         pkgs/main/linux-64::numpy-base-1.26.4-py311hf175353_0 \n",
      "  pandas             pkgs/main/linux-64::pandas-2.2.1-py311ha02d727_0 \n",
      "  python-tzdata      pkgs/main/noarch::python-tzdata-2023.3-pyhd3eb1b0_0 \n",
      "  tbb                pkgs/main/linux-64::tbb-2021.8.0-hdb19cb5_0 \n",
      "\n",
      "\n",
      "\n",
      "Downloading and Extracting Packages:\n",
      "                                                                                \n",
      "Preparing transaction: done\n",
      "Verifying transaction: done\n",
      "Executing transaction: done\n",
      "\n",
      "Note: you may need to restart the kernel to use updated packages.\n"
     ]
    }
   ],
   "source": [
    "conda install pandas\n"
   ]
  },
  {
   "cell_type": "code",
   "execution_count": 5,
   "id": "a53744d3-222b-4698-9962-a1a32d3b47ee",
   "metadata": {},
   "outputs": [
    {
     "ename": "ModuleNotFoundError",
     "evalue": "No module named 'sklearn'",
     "output_type": "error",
     "traceback": [
      "\u001b[0;31m---------------------------------------------------------------------------\u001b[0m",
      "\u001b[0;31mModuleNotFoundError\u001b[0m                       Traceback (most recent call last)",
      "Cell \u001b[0;32mIn[5], line 4\u001b[0m\n\u001b[1;32m      2\u001b[0m \u001b[38;5;28;01mimport\u001b[39;00m \u001b[38;5;21;01mmatplotlib\u001b[39;00m\u001b[38;5;21;01m.\u001b[39;00m\u001b[38;5;21;01mpyplot\u001b[39;00m \u001b[38;5;28;01mas\u001b[39;00m \u001b[38;5;21;01mmtp\u001b[39;00m\n\u001b[1;32m      3\u001b[0m \u001b[38;5;28;01mimport\u001b[39;00m \u001b[38;5;21;01mpandas\u001b[39;00m \u001b[38;5;28;01mas\u001b[39;00m \u001b[38;5;21;01mpd\u001b[39;00m\n\u001b[0;32m----> 4\u001b[0m \u001b[38;5;28;01mfrom\u001b[39;00m \u001b[38;5;21;01msklearn\u001b[39;00m\u001b[38;5;21;01m.\u001b[39;00m\u001b[38;5;21;01mpreprocessing\u001b[39;00m \u001b[38;5;28;01mimport\u001b[39;00m StandardScalar\n\u001b[1;32m      5\u001b[0m \u001b[38;5;28;01mfrom\u001b[39;00m \u001b[38;5;21;01msklearn\u001b[39;00m\u001b[38;5;21;01m.\u001b[39;00m\u001b[38;5;21;01mmodel_selection\u001b[39;00m \u001b[38;5;28;01mimport\u001b[39;00m train_test_split\n\u001b[1;32m      7\u001b[0m data_set \u001b[38;5;241m=\u001b[39m pd\u001b[38;5;241m.\u001b[39mread_csv(\u001b[38;5;124m'\u001b[39m\u001b[38;5;124m/home/pratiyushp/Downloads/datasets/knn_data.csv\u001b[39m\u001b[38;5;124m'\u001b[39m)\n",
      "\u001b[0;31mModuleNotFoundError\u001b[0m: No module named 'sklearn'"
     ]
    }
   ],
   "source": [
    "import numpy as np\n",
    "import matplotlib.pyplot as mtp\n",
    "import pandas as pd\n",
    "from sklearn.preprocessing import StandardScalar\n",
    "from sklearn.model_selection import train_test_split\n",
    "\n",
    "data_set = pd.read_csv('/home/pratiyushp/Downloads/datasets/knn_data.csv')\n",
    "\n",
    "x = data_set.iloc[:,[2,3]].values\n",
    "y = data_set.iloc[:,4].values\n",
    "\n",
    "x_train, x_test, y_train, y_test = train_test_split(x, y, test_size = 0.25, random_state = 0)\n",
    "\n",
    "st_x = StandardScaler()\n",
    "x_train = st_x.fit_transform(x_train)\n",
    "x_test = st_x.transform(x_test)"
   ]
  },
  {
   "cell_type": "code",
   "execution_count": null,
   "id": "b9f82db8-e96d-4928-b5f7-2db3c8c50a5e",
   "metadata": {},
   "outputs": [
    {
     "name": "stdout",
     "output_type": "stream",
     "text": [
      "Channels:\n",
      " - defaults\n",
      "Platform: linux-64\n",
      "Collecting package metadata (repodata.json): - Retrying (Retry(total=2, connect=None, read=None, redirect=None, status=None)) after connection broken by 'ReadTimeoutError(\"HTTPSConnectionPool(host='repo.anaconda.com', port=443): Read timed out. (read timeout=9.15)\")': /pkgs/r/linux-64/repodata.json.zst\n",
      "\n",
      "done\n",
      "Solving environment: | "
     ]
    }
   ],
   "source": [
    "conda install sklearn"
   ]
  },
  {
   "cell_type": "code",
   "execution_count": 8,
   "id": "332fea20-cadc-4e5f-89e5-2fca47c2f3af",
   "metadata": {},
   "outputs": [
    {
     "ename": "ModuleNotFoundError",
     "evalue": "No module named 'sklearn'",
     "output_type": "error",
     "traceback": [
      "\u001b[0;31m---------------------------------------------------------------------------\u001b[0m",
      "\u001b[0;31mModuleNotFoundError\u001b[0m                       Traceback (most recent call last)",
      "Cell \u001b[0;32mIn[8], line 4\u001b[0m\n\u001b[1;32m      2\u001b[0m \u001b[38;5;28;01mimport\u001b[39;00m \u001b[38;5;21;01mmatplotlib\u001b[39;00m\u001b[38;5;21;01m.\u001b[39;00m\u001b[38;5;21;01mpyplot\u001b[39;00m \u001b[38;5;28;01mas\u001b[39;00m \u001b[38;5;21;01mmtp\u001b[39;00m\n\u001b[1;32m      3\u001b[0m \u001b[38;5;28;01mimport\u001b[39;00m \u001b[38;5;21;01mpandas\u001b[39;00m \u001b[38;5;28;01mas\u001b[39;00m \u001b[38;5;21;01mpd\u001b[39;00m\n\u001b[0;32m----> 4\u001b[0m \u001b[38;5;28;01mfrom\u001b[39;00m \u001b[38;5;21;01msklearn\u001b[39;00m\u001b[38;5;21;01m.\u001b[39;00m\u001b[38;5;21;01mpreprocessing\u001b[39;00m \u001b[38;5;28;01mimport\u001b[39;00m StandardScalar\n\u001b[1;32m      5\u001b[0m \u001b[38;5;28;01mfrom\u001b[39;00m \u001b[38;5;21;01msklearn\u001b[39;00m\u001b[38;5;21;01m.\u001b[39;00m\u001b[38;5;21;01mmodel_selection\u001b[39;00m \u001b[38;5;28;01mimport\u001b[39;00m train_test_split\n\u001b[1;32m      7\u001b[0m data_set \u001b[38;5;241m=\u001b[39m pd\u001b[38;5;241m.\u001b[39mread_csv(\u001b[38;5;124m'\u001b[39m\u001b[38;5;124m/home/pratiyushp/Downloads/datasets/knn_data.csv\u001b[39m\u001b[38;5;124m'\u001b[39m)\n",
      "\u001b[0;31mModuleNotFoundError\u001b[0m: No module named 'sklearn'"
     ]
    }
   ],
   "source": [
    "import numpy as np\n",
    "import matplotlib.pyplot as mtp\n",
    "import pandas as pd\n",
    "from sklearn.preprocessing import StandardScalar\n",
    "from sklearn.model_selection import train_test_split\n",
    "\n",
    "data_set = pd.read_csv('/home/pratiyushp/Downloads/datasets/knn_data.csv')\n",
    "\n",
    "x = data_set.iloc[:,[2,3]].values\n",
    "y = data_set.iloc[:,4].values\n",
    "\n",
    "x_train, x_test, y_train, y_test = train_test_split(x, y, test_size = 0.25, random_state = 0)\n",
    "\n",
    "st_x = StandardScaler()\n",
    "x_train = st_x.fit_transform(x_train)\n",
    "x_test = st_x.transform(x_test)"
   ]
  },
  {
   "cell_type": "code",
   "execution_count": 9,
   "id": "82a9ba2d-979d-4575-b305-720d7cb15d72",
   "metadata": {},
   "outputs": [
    {
     "name": "stdout",
     "output_type": "stream",
     "text": [
      "Channels:\n",
      " - defaults\n",
      "Platform: linux-64\n",
      "Collecting package metadata (repodata.json): done\n",
      "Solving environment: failed\n",
      "\n",
      "PackagesNotFoundError: The following packages are not available from current channels:\n",
      "\n",
      "  - sklearn\n",
      "\n",
      "Current channels:\n",
      "\n",
      "  - defaults\n",
      "\n",
      "To search for alternate channels that may provide the conda package you're\n",
      "looking for, navigate to\n",
      "\n",
      "    https://anaconda.org\n",
      "\n",
      "and use the search bar at the top of the page.\n",
      "\n",
      "\n",
      "\n",
      "Note: you may need to restart the kernel to use updated packages.\n"
     ]
    }
   ],
   "source": [
    "conda install sklearn"
   ]
  },
  {
   "cell_type": "code",
   "execution_count": 10,
   "id": "29d61a32-8544-4197-9c69-088f027b300d",
   "metadata": {},
   "outputs": [
    {
     "name": "stdout",
     "output_type": "stream",
     "text": [
      "usage: conda [-h] [-v] [--no-plugins] [-V] COMMAND ...\n",
      "conda: error: unrecognized arguments: -U\n",
      "\n",
      "Note: you may need to restart the kernel to use updated packages.\n"
     ]
    }
   ],
   "source": [
    "conda install -U scikit-learn"
   ]
  },
  {
   "cell_type": "code",
   "execution_count": 11,
   "id": "1a6efa9c-23b8-474b-b918-19d9d198bc5a",
   "metadata": {},
   "outputs": [
    {
     "name": "stdout",
     "output_type": "stream",
     "text": [
      "Channels:\n",
      " - defaults\n",
      "Platform: linux-64\n",
      "Collecting package metadata (repodata.json): done\n",
      "Solving environment: done\n",
      "\n",
      "## Package Plan ##\n",
      "\n",
      "  environment location: /home/pratiyushp/anaconda3/envs/My_Workspace\n",
      "\n",
      "  added / updated specs:\n",
      "    - scikit-learn\n",
      "\n",
      "\n",
      "The following packages will be downloaded:\n",
      "\n",
      "    package                    |            build\n",
      "    ---------------------------|-----------------\n",
      "    numpy-1.24.3               |  py311h08b1b3b_1          11 KB\n",
      "    numpy-base-1.24.3          |  py311hf175353_1         7.2 MB\n",
      "    scikit-learn-1.3.0         |  py311ha02d727_1         9.5 MB\n",
      "    ------------------------------------------------------------\n",
      "                                           Total:        16.7 MB\n",
      "\n",
      "The following NEW packages will be INSTALLED:\n",
      "\n",
      "  joblib             pkgs/main/linux-64::joblib-1.2.0-py311h06a4308_0 \n",
      "  libgfortran-ng     pkgs/main/linux-64::libgfortran-ng-11.2.0-h00389a5_1 \n",
      "  libgfortran5       pkgs/main/linux-64::libgfortran5-11.2.0-h1234567_1 \n",
      "  scikit-learn       pkgs/main/linux-64::scikit-learn-1.3.0-py311ha02d727_1 \n",
      "  scipy              pkgs/main/linux-64::scipy-1.11.4-py311h08b1b3b_0 \n",
      "  threadpoolctl      pkgs/main/noarch::threadpoolctl-2.2.0-pyh0d69192_0 \n",
      "\n",
      "The following packages will be DOWNGRADED:\n",
      "\n",
      "  numpy                              1.26.4-py311h08b1b3b_0 --> 1.24.3-py311h08b1b3b_1 \n",
      "  numpy-base                         1.26.4-py311hf175353_0 --> 1.24.3-py311hf175353_1 \n",
      "\n",
      "\n",
      "\n",
      "Downloading and Extracting Packages:\n",
      "scikit-learn-1.3.0   | 9.5 MB    |                                       |   0% \n",
      "numpy-base-1.24.3    | 7.2 MB    |                                       |   0% \u001b[A\n",
      "\n",
      "numpy-1.24.3         | 11 KB     |                                       |   0% \u001b[A\u001b[A\n",
      "\n",
      "numpy-1.24.3         | 11 KB     | ##################################### | 100% \u001b[A\u001b[A\n",
      "numpy-base-1.24.3    | 7.2 MB    | 3                                     |   1% \u001b[A\n",
      "\n",
      "numpy-1.24.3         | 11 KB     | ##################################### | 100% \u001b[A\u001b[A\n",
      "numpy-base-1.24.3    | 7.2 MB    | ######                                |  16% \u001b[A\n",
      "numpy-base-1.24.3    | 7.2 MB    | ############                          |  32% \u001b[A\n",
      "numpy-base-1.24.3    | 7.2 MB    | #################8                    |  48% \u001b[A\n",
      "numpy-base-1.24.3    | 7.2 MB    | #######################7              |  64% \u001b[A\n",
      "numpy-base-1.24.3    | 7.2 MB    | #############################6        |  80% \u001b[A\n",
      "numpy-base-1.24.3    | 7.2 MB    | ###################################6  |  96% \u001b[A\n",
      "                                                                                \u001b[A\n",
      "                                                                                \u001b[A\n",
      "\n",
      "                                                                                \u001b[A\u001b[A\n",
      "\n",
      "CondaHTTPError: HTTP 000 CONNECTION FAILED for url <https://repo.anaconda.com/pkgs/main/linux-64/scikit-learn-1.3.0-py311ha02d727_1.conda>\n",
      "Elapsed: -\n",
      "\n",
      "An HTTP error occurred when trying to retrieve this URL.\n",
      "HTTP errors are often intermittent, and a simple retry will get you on your way.\n",
      "\n",
      "CondaHTTPError: HTTP 000 CONNECTION FAILED for url <https://repo.anaconda.com/pkgs/main/linux-64/scikit-learn-1.3.0-py311ha02d727_1.conda>\n",
      "Elapsed: -\n",
      "\n",
      "An HTTP error occurred when trying to retrieve this URL.\n",
      "HTTP errors are often intermittent, and a simple retry will get you on your way.\n",
      "\n",
      "\n",
      "\n",
      "Note: you may need to restart the kernel to use updated packages.\n"
     ]
    }
   ],
   "source": [
    "conda install scikit-learn"
   ]
  },
  {
   "cell_type": "code",
   "execution_count": 12,
   "id": "79ea67b3-67a6-40a9-9990-df22e45dddd1",
   "metadata": {},
   "outputs": [
    {
     "name": "stdout",
     "output_type": "stream",
     "text": [
      "Channels:\n",
      " - defaults\n",
      "Platform: linux-64\n",
      "Collecting package metadata (repodata.json): done\n",
      "Solving environment: done\n",
      "\n",
      "## Package Plan ##\n",
      "\n",
      "  environment location: /home/pratiyushp/anaconda3/envs/My_Workspace\n",
      "\n",
      "  added / updated specs:\n",
      "    - scikit-learn-intelex\n",
      "\n",
      "\n",
      "The following packages will be downloaded:\n",
      "\n",
      "    package                    |            build\n",
      "    ---------------------------|-----------------\n",
      "    daal4py-2023.1.1           |  py311h4cb112f_0        11.5 MB\n",
      "    dal-2023.1.1               |   hdb19cb5_48680        36.9 MB\n",
      "    mpi-1.0                    |            mpich          13 KB\n",
      "    mpich-4.1.1                |       hbae89fd_0        20.4 MB\n",
      "    scikit-learn-intelex-2023.1.1|  py311h06a4308_0         141 KB\n",
      "    ------------------------------------------------------------\n",
      "                                           Total:        68.9 MB\n",
      "\n",
      "The following NEW packages will be INSTALLED:\n",
      "\n",
      "  daal4py            pkgs/main/linux-64::daal4py-2023.1.1-py311h4cb112f_0 \n",
      "  dal                pkgs/main/linux-64::dal-2023.1.1-hdb19cb5_48680 \n",
      "  joblib             pkgs/main/linux-64::joblib-1.2.0-py311h06a4308_0 \n",
      "  libgfortran-ng     pkgs/main/linux-64::libgfortran-ng-11.2.0-h00389a5_1 \n",
      "  libgfortran5       pkgs/main/linux-64::libgfortran5-11.2.0-h1234567_1 \n",
      "  mpi                pkgs/main/linux-64::mpi-1.0-mpich \n",
      "  mpich              pkgs/main/linux-64::mpich-4.1.1-hbae89fd_0 \n",
      "  scikit-learn       pkgs/main/linux-64::scikit-learn-1.2.2-py311h6a678d5_1 \n",
      "  scikit-learn-inte~ pkgs/main/linux-64::scikit-learn-intelex-2023.1.1-py311h06a4308_0 \n",
      "  scipy              pkgs/main/linux-64::scipy-1.11.4-py311h08b1b3b_0 \n",
      "  threadpoolctl      pkgs/main/noarch::threadpoolctl-2.2.0-pyh0d69192_0 \n",
      "\n",
      "\n",
      "\n",
      "Downloading and Extracting Packages:\n",
      "dal-2023.1.1         | 36.9 MB   |                                       |   0% \n",
      "mpich-4.1.1          | 20.4 MB   |                                       |   0% \u001b[A\n",
      "\n",
      "daal4py-2023.1.1     | 11.5 MB   |                                       |   0% \u001b[A\u001b[A\n",
      "\n",
      "\n",
      "scikit-learn-intelex | 141 KB    |                                       |   0% \u001b[A\u001b[A\u001b[A\n",
      "\n",
      "\n",
      "\n",
      "dal-2023.1.1         | 36.9 MB   | 9                                     |   3% \u001b[A\u001b[A\u001b[A\u001b[A\n",
      "\n",
      "\n",
      "\n",
      "dal-2023.1.1         | 36.9 MB   | ##                                    |   6% \u001b[A\u001b[A\u001b[A\u001b[A\n",
      "\n",
      "\n",
      "\n",
      "dal-2023.1.1         | 36.9 MB   | ###8                                  |  11% \u001b[A\u001b[A\u001b[A\u001b[A\n",
      "\n",
      "\n",
      "scikit-learn-intelex | 141 KB    | ####1                                 |  11% \u001b[A\u001b[A\u001b[A\n",
      "\n",
      "dal-2023.1.1         | 36.9 MB   | #####7                                |  16% \u001b[A\u001b[A\n",
      "\n",
      "daal4py-2023.1.1     | 11.5 MB   | 3                                     |   1% \u001b[A\u001b[A\n",
      "\n",
      "\n",
      "scikit-learn-intelex | 141 KB    | ##################################### | 100% \u001b[A\u001b[A\u001b[A\n",
      "\n",
      "\n",
      "dal-2023.1.1         | 36.9 MB   | ######6                               |  18% \u001b[A\u001b[A\u001b[A\n",
      "\n",
      "dal-2023.1.1         | 36.9 MB   | #######7                              |  21% \u001b[A\u001b[A\n",
      "\n",
      "dal-2023.1.1         | 36.9 MB   | ########6                             |  23% \u001b[A\u001b[A\n",
      "\n",
      "daal4py-2023.1.1     | 11.5 MB   | #1                                    |   3% \u001b[A\u001b[A\n",
      "\n",
      "dal-2023.1.1         | 36.9 MB   | #########4                            |  26% \u001b[A\u001b[A\n",
      "\n",
      "dal-2023.1.1         | 36.9 MB   | ##########1                           |  27% \u001b[A\u001b[A\n",
      "\n",
      "daal4py-2023.1.1     | 11.5 MB   | ###                                   |   8% \u001b[A\u001b[A\n",
      "\n",
      "dal-2023.1.1         | 36.9 MB   | ##########7                           |  29% \u001b[A\u001b[A\n",
      "\n",
      "daal4py-2023.1.1     | 11.5 MB   | ####7                                 |  13% \u001b[A\u001b[A\n",
      "\n",
      "dal-2023.1.1         | 36.9 MB   | ###########3                          |  31% \u001b[A\u001b[A\n",
      "\n",
      "dal-2023.1.1         | 36.9 MB   | ###########8                          |  32% \u001b[A\u001b[A\n",
      "\n",
      "dal-2023.1.1         | 36.9 MB   | ############2                         |  33% \u001b[A\u001b[A\n",
      "\n",
      "dal-2023.1.1         | 36.9 MB   | ############6                         |  34% \u001b[A\u001b[A\n",
      "\n",
      "dal-2023.1.1         | 36.9 MB   | #############                         |  35% \u001b[A\u001b[A\n",
      "\n",
      "dal-2023.1.1         | 36.9 MB   | #############5                        |  37% \u001b[A\u001b[A\n",
      "\n",
      "daal4py-2023.1.1     | 11.5 MB   | ################9                     |  46% \u001b[A\u001b[A\n",
      "\n",
      "dal-2023.1.1         | 36.9 MB   | #############9                        |  38% \u001b[A\u001b[A\n",
      "\n",
      "dal-2023.1.1         | 36.9 MB   | ##############3                       |  39% \u001b[A\u001b[A\n",
      "\n",
      "dal-2023.1.1         | 36.9 MB   | ##############6                       |  40% \u001b[A\u001b[A\n",
      "\n",
      "dal-2023.1.1         | 36.9 MB   | ###############                       |  41% \u001b[A\u001b[A\n",
      "\n",
      "dal-2023.1.1         | 36.9 MB   | ###############3                      |  41% \u001b[A\u001b[A\n",
      "\n",
      "dal-2023.1.1         | 36.9 MB   | ###############5                      |  42% \u001b[A\u001b[A\n",
      "\n",
      "dal-2023.1.1         | 36.9 MB   | ###############8                      |  43% \u001b[A\u001b[A\n",
      "\n",
      "dal-2023.1.1         | 36.9 MB   | ################1                     |  44% \u001b[A\u001b[A\n",
      "\n",
      "dal-2023.1.1         | 36.9 MB   | ################3                     |  44% \u001b[A\u001b[A\n",
      "\n",
      "dal-2023.1.1         | 36.9 MB   | ################6                     |  45% \u001b[A\u001b[A\n",
      "\n",
      "dal-2023.1.1         | 36.9 MB   | ################8                     |  46% \u001b[A\u001b[A\n",
      "\n",
      "dal-2023.1.1         | 36.9 MB   | #################1                    |  46% \u001b[A\u001b[A\n",
      "\n",
      "dal-2023.1.1         | 36.9 MB   | #################3                    |  47% \u001b[A\u001b[A\n",
      "\n",
      "dal-2023.1.1         | 36.9 MB   | #################5                    |  47% \u001b[A\u001b[A\n",
      "\n",
      "dal-2023.1.1         | 36.9 MB   | ##################5                   |  50% \u001b[A\u001b[A\n",
      "\n",
      "dal-2023.1.1         | 36.9 MB   | ##############################1       |  81% \u001b[A\u001b[A\n",
      "dal-2023.1.1         | 36.9 MB   | ################################3     |  87% \u001b[A\n",
      "dal-2023.1.1         | 36.9 MB   | ##################################### | 100% \u001b[A\n",
      "mpich-4.1.1          | 20.4 MB   |                                       |   0% \u001b[A\n",
      "mpich-4.1.1          | 20.4 MB   | 1                                     |   0% \u001b[A\n",
      "mpich-4.1.1          | 20.4 MB   | 1                                     |   0% \u001b[A\n",
      "mpich-4.1.1          | 20.4 MB   | 1                                     |   0% \u001b[A\n",
      "mpich-4.1.1          | 20.4 MB   | 1                                     |   1% \u001b[A\n",
      "mpich-4.1.1          | 20.4 MB   | 2                                     |   1% \u001b[A\n",
      "mpich-4.1.1          | 20.4 MB   | 2                                     |   1% \u001b[A\n",
      "mpich-4.1.1          | 20.4 MB   | 2                                     |   1% \u001b[A\n",
      "mpich-4.1.1          | 20.4 MB   | 3                                     |   1% \u001b[A\n",
      "mpich-4.1.1          | 20.4 MB   | 3                                     |   1% \u001b[A\n",
      "mpich-4.1.1          | 20.4 MB   | 3                                     |   1% \u001b[A\n",
      "mpich-4.1.1          | 20.4 MB   | 3                                     |   1% \u001b[A\n",
      "mpich-4.1.1          | 20.4 MB   | 4                                     |   1% \u001b[A\n",
      "mpich-4.1.1          | 20.4 MB   | 4                                     |   1% \u001b[A\n",
      "mpich-4.1.1          | 20.4 MB   | 4                                     |   1% \u001b[A\n",
      "mpich-4.1.1          | 20.4 MB   | 5                                     |   1% \u001b[A\n",
      "mpich-4.1.1          | 20.4 MB   | 5                                     |   1% \u001b[A\n",
      "mpich-4.1.1          | 20.4 MB   | 5                                     |   2% \u001b[A\n",
      "mpich-4.1.1          | 20.4 MB   | 5                                     |   2% \u001b[A\n",
      "mpich-4.1.1          | 20.4 MB   | 6                                     |   2% \u001b[A\n",
      "mpich-4.1.1          | 20.4 MB   | 6                                     |   2% \u001b[A\n",
      "mpich-4.1.1          | 20.4 MB   | 6                                     |   2% \u001b[A\n",
      "mpich-4.1.1          | 20.4 MB   | 7                                     |   2% \u001b[A\n",
      "mpich-4.1.1          | 20.4 MB   | 7                                     |   2% \u001b[A\n",
      "mpich-4.1.1          | 20.4 MB   | 7                                     |   2% \u001b[A\n",
      "mpich-4.1.1          | 20.4 MB   | 7                                     |   2% \u001b[A\n",
      "mpich-4.1.1          | 20.4 MB   | 8                                     |   2% \u001b[A\n",
      "mpich-4.1.1          | 20.4 MB   | 8                                     |   2% \u001b[A\n",
      "mpich-4.1.1          | 20.4 MB   | 8                                     |   2% \u001b[A\n",
      "mpich-4.1.1          | 20.4 MB   | 9                                     |   2% \u001b[A\n",
      "mpich-4.1.1          | 20.4 MB   | 9                                     |   3% \u001b[A\n",
      "mpich-4.1.1          | 20.4 MB   | 9                                     |   3% \u001b[A\n",
      "mpich-4.1.1          | 20.4 MB   | 9                                     |   3% \u001b[A\n",
      "mpich-4.1.1          | 20.4 MB   | #                                     |   3% \u001b[A\n",
      "mpich-4.1.1          | 20.4 MB   | #                                     |   3% \u001b[A\n",
      "mpich-4.1.1          | 20.4 MB   | #                                     |   3% \u001b[A\n",
      "mpich-4.1.1          | 20.4 MB   | #1                                    |   3% \u001b[A\n",
      "mpich-4.1.1          | 20.4 MB   | #1                                    |   3% \u001b[A\n",
      "mpich-4.1.1          | 20.4 MB   | #1                                    |   3% \u001b[A\n",
      "mpich-4.1.1          | 20.4 MB   | #1                                    |   3% \u001b[A\n",
      "mpich-4.1.1          | 20.4 MB   | #2                                    |   3% \u001b[A\n",
      "mpich-4.1.1          | 20.4 MB   | #2                                    |   3% \u001b[A\n",
      "mpich-4.1.1          | 20.4 MB   | #2                                    |   3% \u001b[A\n",
      "mpich-4.1.1          | 20.4 MB   | #3                                    |   4% \u001b[A\n",
      "mpich-4.1.1          | 20.4 MB   | #3                                    |   4% \u001b[A\n",
      "mpich-4.1.1          | 20.4 MB   | #3                                    |   4% \u001b[A\n",
      "mpich-4.1.1          | 20.4 MB   | #3                                    |   4% \u001b[A\n",
      "mpich-4.1.1          | 20.4 MB   | #4                                    |   4% \u001b[A\n",
      "mpich-4.1.1          | 20.4 MB   | #4                                    |   4% \u001b[A\n",
      "mpich-4.1.1          | 20.4 MB   | #4                                    |   4% \u001b[A\n",
      "mpich-4.1.1          | 20.4 MB   | #5                                    |   4% \u001b[A\n",
      "mpich-4.1.1          | 20.4 MB   | #5                                    |   4% \u001b[A\n",
      "mpich-4.1.1          | 20.4 MB   | #5                                    |   4% \u001b[A\n",
      "mpich-4.1.1          | 20.4 MB   | #5                                    |   4% \u001b[A\n",
      "mpich-4.1.1          | 20.4 MB   | #6                                    |   4% \u001b[A\n",
      "mpich-4.1.1          | 20.4 MB   | #6                                    |   4% \u001b[A\n",
      "mpich-4.1.1          | 20.4 MB   | #6                                    |   5% \u001b[A\n",
      "mpich-4.1.1          | 20.4 MB   | #7                                    |   5% \u001b[A\n",
      "mpich-4.1.1          | 20.4 MB   | #7                                    |   5% \u001b[A\n",
      "mpich-4.1.1          | 20.4 MB   | #7                                    |   5% \u001b[A\n",
      "mpich-4.1.1          | 20.4 MB   | #7                                    |   5% \u001b[A\n",
      "mpich-4.1.1          | 20.4 MB   | #8                                    |   5% \u001b[A\n",
      "mpich-4.1.1          | 20.4 MB   | #8                                    |   5% \u001b[A\n",
      "mpich-4.1.1          | 20.4 MB   | #8                                    |   5% \u001b[A\n",
      "mpich-4.1.1          | 20.4 MB   | #9                                    |   5% \u001b[A\n",
      "mpich-4.1.1          | 20.4 MB   | #9                                    |   5% \u001b[A\n",
      "mpich-4.1.1          | 20.4 MB   | #9                                    |   5% \u001b[A\n",
      "mpich-4.1.1          | 20.4 MB   | #9                                    |   5% \u001b[A\n",
      "mpich-4.1.1          | 20.4 MB   | ##                                    |   5% \u001b[A\n",
      "mpich-4.1.1          | 20.4 MB   | ##                                    |   6% \u001b[A\n",
      "mpich-4.1.1          | 20.4 MB   | ##                                    |   6% \u001b[A\n",
      "mpich-4.1.1          | 20.4 MB   | ##1                                   |   6% \u001b[A\n",
      "mpich-4.1.1          | 20.4 MB   | ##1                                   |   6% \u001b[A\n",
      "mpich-4.1.1          | 20.4 MB   | ##1                                   |   6% \u001b[A\n",
      "mpich-4.1.1          | 20.4 MB   | ##1                                   |   6% \u001b[A\n",
      "mpich-4.1.1          | 20.4 MB   | ##2                                   |   6% \u001b[A\n",
      "mpich-4.1.1          | 20.4 MB   | ##2                                   |   6% \u001b[A\n",
      "mpich-4.1.1          | 20.4 MB   | ##2                                   |   6% \u001b[A\n",
      "mpich-4.1.1          | 20.4 MB   | ##2                                   |   6% \u001b[A\n",
      "mpich-4.1.1          | 20.4 MB   | ##3                                   |   6% \u001b[A\n",
      "mpich-4.1.1          | 20.4 MB   | ##3                                   |   6% \u001b[A\n",
      "mpich-4.1.1          | 20.4 MB   | ##3                                   |   6% \u001b[A\n",
      "mpich-4.1.1          | 20.4 MB   | ##4                                   |   7% \u001b[A\n",
      "mpich-4.1.1          | 20.4 MB   | ##4                                   |   7% \u001b[A\n",
      "mpich-4.1.1          | 20.4 MB   | ##4                                   |   7% \u001b[A\n",
      "mpich-4.1.1          | 20.4 MB   | ##4                                   |   7% \u001b[A\n",
      "mpich-4.1.1          | 20.4 MB   | ##5                                   |   7% \u001b[A\n",
      "mpich-4.1.1          | 20.4 MB   | ##5                                   |   7% \u001b[A\n",
      "mpich-4.1.1          | 20.4 MB   | ##5                                   |   7% \u001b[A\n",
      "mpich-4.1.1          | 20.4 MB   | ##6                                   |   7% \u001b[A\n",
      "mpich-4.1.1          | 20.4 MB   | ##6                                   |   7% \u001b[A\n",
      "mpich-4.1.1          | 20.4 MB   | ##6                                   |   7% \u001b[A\n",
      "mpich-4.1.1          | 20.4 MB   | ##6                                   |   7% \u001b[A\n",
      "mpich-4.1.1          | 20.4 MB   | ##7                                   |   7% \u001b[A\n",
      "mpich-4.1.1          | 20.4 MB   | ##7                                   |   7% \u001b[A\n",
      "mpich-4.1.1          | 20.4 MB   | ##7                                   |   8% \u001b[A\n",
      "mpich-4.1.1          | 20.4 MB   | ##8                                   |   8% \u001b[A\n",
      "mpich-4.1.1          | 20.4 MB   | ##8                                   |   8% \u001b[A\n",
      "mpich-4.1.1          | 20.4 MB   | ##8                                   |   8% \u001b[A\n",
      "mpich-4.1.1          | 20.4 MB   | ##8                                   |   8% \u001b[A\n",
      "mpich-4.1.1          | 20.4 MB   | ##9                                   |   8% \u001b[A\n",
      "mpich-4.1.1          | 20.4 MB   | ##9                                   |   8% \u001b[A\n",
      "mpich-4.1.1          | 20.4 MB   | ##9                                   |   8% \u001b[A\n",
      "mpich-4.1.1          | 20.4 MB   | ###                                   |   8% \u001b[A\n",
      "mpich-4.1.1          | 20.4 MB   | ###                                   |   8% \u001b[A\n",
      "mpich-4.1.1          | 20.4 MB   | ###                                   |   8% \u001b[A\n",
      "mpich-4.1.1          | 20.4 MB   | ###                                   |   8% \u001b[A\n",
      "mpich-4.1.1          | 20.4 MB   | ###1                                  |   8% \u001b[A\n",
      "mpich-4.1.1          | 20.4 MB   | ###1                                  |   9% \u001b[A\n",
      "mpich-4.1.1          | 20.4 MB   | ###1                                  |   9% \u001b[A\n",
      "mpich-4.1.1          | 20.4 MB   | ###2                                  |   9% \u001b[A\n",
      "mpich-4.1.1          | 20.4 MB   | ###2                                  |   9% \u001b[A\n",
      "mpich-4.1.1          | 20.4 MB   | ###2                                  |   9% \u001b[A\n",
      "mpich-4.1.1          | 20.4 MB   | ###2                                  |   9% \u001b[A\n",
      "mpich-4.1.1          | 20.4 MB   | ###3                                  |   9% \u001b[A\n",
      "mpich-4.1.1          | 20.4 MB   | ###3                                  |   9% \u001b[A\n",
      "mpich-4.1.1          | 20.4 MB   | ###3                                  |   9% \u001b[A\n",
      "mpich-4.1.1          | 20.4 MB   | ###4                                  |   9% \u001b[A\n",
      "mpich-4.1.1          | 20.4 MB   | ###4                                  |   9% \u001b[A\n",
      "mpich-4.1.1          | 20.4 MB   | ###4                                  |   9% \u001b[A\n",
      "mpich-4.1.1          | 20.4 MB   | ###4                                  |   9% \u001b[A\n",
      "mpich-4.1.1          | 20.4 MB   | ###5                                  |  10% \u001b[A\n",
      "mpich-4.1.1          | 20.4 MB   | ###5                                  |  10% \u001b[A\n",
      "mpich-4.1.1          | 20.4 MB   | ###5                                  |  10% \u001b[A\n",
      "mpich-4.1.1          | 20.4 MB   | ###6                                  |  10% \u001b[A\n",
      "mpich-4.1.1          | 20.4 MB   | ###6                                  |  10% \u001b[A\n",
      "mpich-4.1.1          | 20.4 MB   | ###6                                  |  10% \u001b[A\n",
      "mpich-4.1.1          | 20.4 MB   | ###6                                  |  10% \u001b[A\n",
      "mpich-4.1.1          | 20.4 MB   | ###7                                  |  10% \u001b[A\n",
      "mpich-4.1.1          | 20.4 MB   | ###7                                  |  10% \u001b[A\n",
      "mpich-4.1.1          | 20.4 MB   | ###7                                  |  10% \u001b[A\n",
      "mpich-4.1.1          | 20.4 MB   | ###8                                  |  10% \u001b[A\n",
      "mpich-4.1.1          | 20.4 MB   | ###8                                  |  10% \u001b[A^C\n",
      "\n",
      "Note: you may need to restart the kernel to use updated packages.\n"
     ]
    }
   ],
   "source": [
    "conda install scikit-learn-intelex"
   ]
  },
  {
   "cell_type": "code",
   "execution_count": null,
   "id": "757475e9-8393-4636-975c-37595c22b089",
   "metadata": {},
   "outputs": [],
   "source": [
    "conda install scikit-learn"
   ]
  },
  {
   "cell_type": "code",
   "execution_count": 1,
   "id": "fb86dd9d-c54f-463e-9699-23ed89b3815c",
   "metadata": {},
   "outputs": [
    {
     "name": "stdout",
     "output_type": "stream",
     "text": [
      "Collecting scikit-learn\n",
      "  Downloading scikit_learn-1.4.1.post1-cp311-cp311-manylinux_2_17_x86_64.manylinux2014_x86_64.whl.metadata (11 kB)\n",
      "Requirement already satisfied: numpy<2.0,>=1.19.5 in /home/pratiyushp/anaconda3/envs/My_Workspace/lib/python3.11/site-packages (from scikit-learn) (1.26.4)\n",
      "Collecting scipy>=1.6.0 (from scikit-learn)\n",
      "  Downloading scipy-1.12.0-cp311-cp311-manylinux_2_17_x86_64.manylinux2014_x86_64.whl.metadata (60 kB)\n",
      "\u001b[2K     \u001b[38;2;114;156;31m━━━━━━━━━━━━━━━━━━━━━━━━━━━━━━━━━━━━━━━━\u001b[0m \u001b[32m60.4/60.4 kB\u001b[0m \u001b[31m1.0 MB/s\u001b[0m eta \u001b[36m0:00:00\u001b[0m MB/s\u001b[0m eta \u001b[36m0:00:01\u001b[0m\n",
      "\u001b[?25hCollecting joblib>=1.2.0 (from scikit-learn)\n",
      "  Downloading joblib-1.3.2-py3-none-any.whl.metadata (5.4 kB)\n",
      "Collecting threadpoolctl>=2.0.0 (from scikit-learn)\n",
      "  Downloading threadpoolctl-3.3.0-py3-none-any.whl.metadata (13 kB)\n",
      "Downloading scikit_learn-1.4.1.post1-cp311-cp311-manylinux_2_17_x86_64.manylinux2014_x86_64.whl (12.1 MB)\n",
      "\u001b[2K   \u001b[38;2;114;156;31m━━━━━━━━━━━━━━━━━━━━━━━━━━━━━━━━━━━━━━━━\u001b[0m \u001b[32m12.1/12.1 MB\u001b[0m \u001b[31m6.4 MB/s\u001b[0m eta \u001b[36m0:00:00\u001b[0mm eta \u001b[36m0:00:01\u001b[0m0:01\u001b[0m:01\u001b[0m\n",
      "\u001b[?25hDownloading joblib-1.3.2-py3-none-any.whl (302 kB)\n",
      "\u001b[2K   \u001b[38;2;114;156;31m━━━━━━━━━━━━━━━━━━━━━━━━━━━━━━━━━━━━━━━━\u001b[0m \u001b[32m302.2/302.2 kB\u001b[0m \u001b[31m6.5 MB/s\u001b[0m eta \u001b[36m0:00:00\u001b[0m[31m9.5 MB/s\u001b[0m eta \u001b[36m0:00:01\u001b[0m\n",
      "\u001b[?25hDownloading scipy-1.12.0-cp311-cp311-manylinux_2_17_x86_64.manylinux2014_x86_64.whl (38.4 MB)\n",
      "\u001b[2K   \u001b[38;2;114;156;31m━━━━━━━━━━━━━━━━━━━━━━━━━━━━━━━━━━━━━━━━\u001b[0m \u001b[32m38.4/38.4 MB\u001b[0m \u001b[31m6.3 MB/s\u001b[0m eta \u001b[36m0:00:00\u001b[0mm eta \u001b[36m0:00:01\u001b[0m[36m0:00:01\u001b[0m\n",
      "\u001b[?25hDownloading threadpoolctl-3.3.0-py3-none-any.whl (17 kB)\n",
      "Installing collected packages: threadpoolctl, scipy, joblib, scikit-learn\n",
      "Successfully installed joblib-1.3.2 scikit-learn-1.4.1.post1 scipy-1.12.0 threadpoolctl-3.3.0\n",
      "Note: you may need to restart the kernel to use updated packages.\n"
     ]
    }
   ],
   "source": [
    "pip install scikit-learn"
   ]
  },
  {
   "cell_type": "code",
   "execution_count": 2,
   "id": "314816fc-8348-490d-8326-cf306c93ec7a",
   "metadata": {},
   "outputs": [
    {
     "ename": "SyntaxError",
     "evalue": "invalid syntax (3576232902.py, line 1)",
     "output_type": "error",
     "traceback": [
      "\u001b[0;36m  Cell \u001b[0;32mIn[2], line 1\u001b[0;36m\u001b[0m\n\u001b[0;31m    import scikit-learn as sklearn\u001b[0m\n\u001b[0m                 ^\u001b[0m\n\u001b[0;31mSyntaxError\u001b[0m\u001b[0;31m:\u001b[0m invalid syntax\n"
     ]
    }
   ],
   "source": [
    "import scikit-learn as sklearn"
   ]
  },
  {
   "cell_type": "code",
   "execution_count": 3,
   "id": "f265883c-b656-46dd-ae81-ee76698e39ea",
   "metadata": {},
   "outputs": [],
   "source": [
    "import sklearn as sl"
   ]
  },
  {
   "cell_type": "code",
   "execution_count": 27,
   "id": "b1bae514-d240-48d1-a1e0-e2b3c15804b3",
   "metadata": {},
   "outputs": [
    {
     "data": {
      "image/png": "[encoded data removed]",
      "text/plain": [
       "<Figure size 640x480 with 1 Axes>"
      ]
     },
     "metadata": {},
     "output_type": "display_data"
    },
    {
     "name": "stdout",
     "output_type": "stream",
     "text": [
      "Shape of x_train: (16, 2)\n",
      "Shape of y_train: (16,)\n",
      "Shape of x_test: (6, 2)\n",
      "Shape of y_test: (6,)\n"
     ]
    }
   ],
   "source": [
    "import numpy as nm\n",
    "import matplotlib.pyplot as mtp\n",
    "import pandas as pd\n",
    "from sklearn.preprocessing import StandardScaler\n",
    "from sklearn.neighbors import KNeighborsClassifier\n",
    "from sklearn.model_selection import train_test_split\n",
    "from matplotlib.colors import ListedColormap\n",
    "from sklearn.metrics import confusion_matrix  \n",
    "\n",
    "data_set = pd.read_csv('/home/pratiyushp/Downloads/datasets/knn_data.csv')\n",
    "\n",
    "x = data_set.iloc[:,[2,3]].values\n",
    "y = data_set.iloc[:,4].values\n",
    "\n",
    "x_train, x_test, y_train, y_test = train_test_split(x, y, test_size = 0.25, random_state = 0)\n",
    "\n",
    "st_x = StandardScaler()\n",
    "x_train = st_x.fit_transform(x_train)\n",
    "x_test = st_x.transform(x_test)\n",
    "mtp.scatter(x_train[:, 0], x_train[:, 1], c=y_train, cmap=mtp.cm.coolwarm)\n",
    "mtp.xlabel('Feature 1')\n",
    "mtp.ylabel('Feature 2')\n",
    "mtp.title('Scatter plot of Training Data')\n",
    "mtp.show()\n",
    "print(\"Shape of x_train:\", x_train.shape)\n",
    "print(\"Shape of y_train:\", y_train.shape)\n",
    "print(\"Shape of x_test:\", x_test.shape)\n",
    "print(\"Shape of y_test:\", y_test.shape)"
   ]
  },
  {
   "cell_type": "code",
   "execution_count": 28,
   "id": "c8746540-be43-452b-b618-b0315ac9b8db",
   "metadata": {},
   "outputs": [],
   "source": [
    "classifier = KNeighborsClassifier(n_neighbors = 5, metric='minkowski', p= 2)\n",
    "classifier.fit(x_train, y_train)\n",
    "ypred= classifier.predict(x_test)\n",
    "cm= confusion_matrix(y_test, y_pred)  "
   ]
  },
  {
   "cell_type": "code",
   "execution_count": 30,
   "id": "fb83d74f-370a-426c-8469-d9a1de287854",
   "metadata": {},
   "outputs": [
    {
     "name": "stderr",
     "output_type": "stream",
     "text": [
      "/tmp/ipykernel_28789/2788365424.py:50: UserWarning: *c* argument looks like a single numeric RGB or RGBA sequence, which should be avoided as value-mapping will have precedence in case its length matches with *x* & *y*.  Please use the *color* keyword-argument or provide a 2D array with a single row if you intend to specify the same RGB or RGBA value for all points.\n",
      "  mtp.scatter(x_set[y_set == j, 0], x_set[y_set == j, 1],\n"
     ]
    },
    {
     "data": {
      "image/png": "[encoded data removed]",
      "text/plain": [
       "<Figure size 640x480 with 1 Axes>"
      ]
     },
     "metadata": {},
     "output_type": "display_data"
    }
   ],
   "source": [
    "x_set, y_set = x_train, y_train\n",
    "\n",
    "x1, x2 = nm.meshgrid(nm.arange(start=x_set[:,0].min()-1, stop=x_set[:,0].max()+1, step=0.01),\n",
    "                     nm.arange(start=x_set[:,1].min()-1, stop=x_set[:,1].max()+1, step=0.01))\n",
    "\n",
    "mtp.contourf(x1, x2, classifier.predict(nm.array([x1.ravel(), x2.ravel()]).T).reshape(x1.shape),\n",
    "             alpha = 0.75, cmap = ListedColormap(('red','green')))\n",
    "\n",
    "mtp.xlim(x1.min(), x1.max())\n",
    "mtp.ylim(x2.min(), x2.max())\n",
    "\n",
    "for i, j in enumerate(nm.unique(y_set)):\n",
    "    mtp.scatter(x_set[y_set == j, 0], x_set[y_set == j, 1],  \n",
    "        c = ListedColormap(('red', 'green'))(i), label = j)  \n",
    "    \n",
    "mtp.title('K-NN Algorithm (Training set)')  \n",
    "mtp.xlabel('Age')  \n",
    "mtp.ylabel('Estimated Salary')  \n",
    "mtp.legend()  \n",
    "mtp.show()  "
   ]
  },
  {
   "cell_type": "code",
   "execution_count": 49,
   "id": "5340e5cb-7310-4194-8211-19e4120aa029",
   "metadata": {},
   "outputs": [
    {
     "ename": "TypeError",
     "evalue": "'DataFrameGroupBy' object is not callable",
     "output_type": "error",
     "traceback": [
      "\u001b[0;31m---------------------------------------------------------------------------\u001b[0m",
      "\u001b[0;31mTypeError\u001b[0m                                 Traceback (most recent call last)",
      "Cell \u001b[0;32mIn[49], line 10\u001b[0m\n\u001b[1;32m      7\u001b[0m df[\u001b[38;5;124m'\u001b[39m\u001b[38;5;124mDate\u001b[39m\u001b[38;5;124m'\u001b[39m] \u001b[38;5;241m=\u001b[39m pd\u001b[38;5;241m.\u001b[39mto_datetime(df[\u001b[38;5;124m'\u001b[39m\u001b[38;5;124mDate\u001b[39m\u001b[38;5;124m'\u001b[39m], \u001b[38;5;28mformat\u001b[39m\u001b[38;5;241m=\u001b[39m\u001b[38;5;124m'\u001b[39m\u001b[38;5;124mmixed\u001b[39m\u001b[38;5;124m'\u001b[39m, dayfirst \u001b[38;5;241m=\u001b[39m \u001b[38;5;28;01mTrue\u001b[39;00m)\n\u001b[1;32m      8\u001b[0m df[\u001b[38;5;124m'\u001b[39m\u001b[38;5;124mMonth\u001b[39m\u001b[38;5;124m'\u001b[39m] \u001b[38;5;241m=\u001b[39m df[\u001b[38;5;124m'\u001b[39m\u001b[38;5;124mDate\u001b[39m\u001b[38;5;124m'\u001b[39m]\u001b[38;5;241m.\u001b[39mdt\u001b[38;5;241m.\u001b[39mmonth\n\u001b[0;32m---> 10\u001b[0m grouped_df \u001b[38;5;241m=\u001b[39m df\u001b[38;5;241m.\u001b[39mgroupby(\u001b[38;5;124m'\u001b[39m\u001b[38;5;124mMonth\u001b[39m\u001b[38;5;124m'\u001b[39m)([\u001b[38;5;124m'\u001b[39m\u001b[38;5;124mWithdrawal Amt.\u001b[39m\u001b[38;5;124m'\u001b[39m],[\u001b[38;5;124m'\u001b[39m\u001b[38;5;124mDeposit Amt.\u001b[39m\u001b[38;5;124m'\u001b[39m])\u001b[38;5;241m.\u001b[39msum()\n\u001b[1;32m     12\u001b[0m grouped_df\u001b[38;5;241m.\u001b[39mplot(kind\u001b[38;5;241m=\u001b[39m\u001b[38;5;124m'\u001b[39m\u001b[38;5;124mbar\u001b[39m\u001b[38;5;124m'\u001b[39m, xlabel\u001b[38;5;241m=\u001b[39m\u001b[38;5;124m'\u001b[39m\u001b[38;5;124mMonth\u001b[39m\u001b[38;5;124m'\u001b[39m, ylabel\u001b[38;5;241m=\u001b[39m\u001b[38;5;124m'\u001b[39m\u001b[38;5;124mTotal Withdrawal Amount\u001b[39m\u001b[38;5;124m'\u001b[39m)\n\u001b[1;32m     13\u001b[0m plt\u001b[38;5;241m.\u001b[39mtitle(\u001b[38;5;124m'\u001b[39m\u001b[38;5;124mTotal Withdrawal Amount per Month\u001b[39m\u001b[38;5;124m'\u001b[39m)\n",
      "\u001b[0;31mTypeError\u001b[0m: 'DataFrameGroupBy' object is not callable"
     ]
    }
   ],
   "source": [
    "import pandas as pd\n",
    "import matplotlib.pyplot as plt\n",
    "df = pd.read_excel('/home/pratiyushp/Downloads/StatHDFC 1.xls')\n",
    "# df = pd.DataFrame(df, columns=[\"Withdrawal Amt.\", \"Deposit Amt.\"])\n",
    "# df = df.cumsum()\n",
    "# plt.figure()\n",
    "df['Date'] = pd.to_datetime(df['Date'], format='mixed', dayfirst = True)\n",
    "df['Month'] = df['Date'].dt.month\n",
    "\n",
    "grouped_df = df.groupby('Month')(['Withdrawal Amt.'],['Deposit Amt.']).sum()\n",
    "\n",
    "grouped_df.plot(kind='bar', xlabel='Month', ylabel='Total Withdrawal Amount')\n",
    "plt.title('Total Withdrawal Amount per Month')\n",
    "plt.show()\n",
    "grouped_df\n",
    "# print((df['Month'].to_string()))"
   ]
  },
  {
   "cell_type": "code",
   "execution_count": 32,
   "id": "8c074274-4709-4477-a63d-1c3975bf9bd6",
   "metadata": {},
   "outputs": [
    {
     "name": "stdout",
     "output_type": "stream",
     "text": [
      "Collecting xlrd\n",
      "  Downloading xlrd-2.0.1-py2.py3-none-any.whl.metadata (3.4 kB)\n",
      "Downloading xlrd-2.0.1-py2.py3-none-any.whl (96 kB)\n",
      "\u001b[2K   \u001b[38;2;114;156;31m━━━━━━━━━━━━━━━━━━━━━━━━━━━━━━━━━━━━━━━━\u001b[0m \u001b[32m96.5/96.5 kB\u001b[0m \u001b[31m965.2 kB/s\u001b[0m eta \u001b[36m0:00:00\u001b[0m1m531.6 kB/s\u001b[0m eta \u001b[36m0:00:01\u001b[0m\n",
      "\u001b[?25hInstalling collected packages: xlrd\n",
      "Successfully installed xlrd-2.0.1\n",
      "Note: you may need to restart the kernel to use updated packages.\n"
     ]
    }
   ],
   "source": [
    "pip install xlrd\n"
   ]
  }
 ],
 "metadata": {
  "kernelspec": {
   "display_name": "Python 3 (ipykernel)",
   "language": "python",
   "name": "python3"
  },
  "language_info": {
   "codemirror_mode": {
    "name": "ipython",
    "version": 3
   },
   "file_extension": ".py",
   "mimetype": "text/x-python",
   "name": "python",
   "nbconvert_exporter": "python",
   "pygments_lexer": "ipython3",
   "version": "3.11.8"
  }
 },
 "nbformat": 4,
 "nbformat_minor": 5
}
