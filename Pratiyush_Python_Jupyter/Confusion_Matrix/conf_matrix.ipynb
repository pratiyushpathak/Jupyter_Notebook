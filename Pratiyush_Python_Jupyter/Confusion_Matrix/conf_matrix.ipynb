{
 "cells": [
  {
   "cell_type": "code",
   "execution_count": 7,
   "id": "6bb891d0-cd95-46ed-9c48-05b416686048",
   "metadata": {},
   "outputs": [
    {
     "name": "stdout",
     "output_type": "stream",
     "text": [
      "Confusion matrix : \n",
      " [[3 2]\n",
      " [1 4]]\n",
      "Outcome values : \n",
      " 3 2 1 4\n",
      "Classification report : \n",
      "               precision    recall  f1-score   support\n",
      "\n",
      "           1       0.75      0.60      0.67         5\n",
      "           0       0.67      0.80      0.73         5\n",
      "\n",
      "    accuracy                           0.70        10\n",
      "   macro avg       0.71      0.70      0.70        10\n",
      "weighted avg       0.71      0.70      0.70        10\n",
      "\n"
     ]
    }
   ],
   "source": [
    "# confusion matrix in sklearn\n",
    "from sklearn.metrics import confusion_matrix\n",
    "from sklearn.metrics import classification_report\n",
    "\n",
    "# actual values\n",
    "# actual = [1,0,0,1,0,0,1,0,0,1]\n",
    "# # predicted values\n",
    "# predicted = [1,0,0,1,0,0,0,1,0,0]\n",
    "# actual = [0,1,1,0,1,1,0,1,1,0]\n",
    "# predicted = [0,1,1,0,1,1,1,0,1,1]\n",
    "\n",
    "actual = [1,1,0,1,0,0,1,0,0,0]\n",
    "predicted = [1, 0, 0, 1, 0, 0, 1, 1, 1, 0]\n",
    "\n",
    "# confusion matrix\n",
    "matrix = confusion_matrix(actual,predicted, labels=[1,0])\n",
    "print('Confusion matrix : \\n',matrix)\n",
    "\n",
    "# outcome values order in sklearn\n",
    "tp, fn, fp, tn = confusion_matrix(actual,predicted,labels=[1,0]).reshape(-1)\n",
    "print('Outcome values : \\n', tp, fn, fp, tn)\n",
    "\n",
    "# classification report for precision, recall f1-score and accuracy\n",
    "matrix = classification_report(actual,predicted,labels=[1,0])\n",
    "print('Classification report : \\n',matrix)"
   ]
  },
  {
   "cell_type": "code",
   "execution_count": 15,
   "id": "712cbd6b-f6a2-41e6-9a72-05c84100bde2",
   "metadata": {},
   "outputs": [
    {
     "name": "stdout",
     "output_type": "stream",
     "text": [
      "Confusion matrix : \n",
      " [[4 2]\n",
      " [1 3]]\n",
      "Outcome values : \n",
      " 4 2 1 3\n",
      "Classification report : \n",
      "               precision    recall  f1-score   support\n",
      "\n",
      "           0       0.80      0.67      0.73         6\n",
      "           1       0.60      0.75      0.67         4\n",
      "\n",
      "    accuracy                           0.70        10\n",
      "   macro avg       0.70      0.71      0.70        10\n",
      "weighted avg       0.72      0.70      0.70        10\n",
      "\n"
     ]
    }
   ],
   "source": [
    "# confusion matrix in sklearn\n",
    "from sklearn.metrics import confusion_matrix\n",
    "from sklearn.metrics import classification_report\n",
    "\n",
    "# actual values\n",
    "# actual = [1,0,0,1,0,0,1,0,0,1]\n",
    "# # predicted values\n",
    "# predicted = [1,0,0,1,0,0,0,1,0,0]\n",
    "# actual = [0,1,1,0,1,1,0,1,1,0]\n",
    "# predicted = [0,1,1,0,1,1,1,0,1,1]\n",
    "\n",
    "actual = [1,1,0,1,0,0,1,0,0,0]\n",
    "predicted = [1, 0, 0, 1, 0, 0, 1, 1, 1, 0]\n",
    "\n",
    "# confusion matrix\n",
    "matrix = confusion_matrix(actual,predicted, labels=[0, 1])\n",
    "print('Confusion matrix : \\n',matrix)\n",
    "\n",
    "# outcome values order in sklearn\n",
    "tp, fn, fp, tn = confusion_matrix(actual,predicted,labels=[0, 1]).reshape(-1)\n",
    "print('Outcome values : \\n', tp, fn, fp, tn)\n",
    "\n",
    "# classification report for precision, recall f1-score and accuracy\n",
    "matrix = classification_report(actual,predicted,labels=[0, 1])\n",
    "print('Classification report : \\n',matrix)"
   ]
  },
  {
   "cell_type": "code",
   "execution_count": 8,
   "id": "7e9d0595-4553-4de2-a342-7a03c448683e",
   "metadata": {},
   "outputs": [
    {
     "name": "stdout",
     "output_type": "stream",
     "text": [
      "[[100, 50], [150, 200]]\n"
     ]
    }
   ],
   "source": [
    "# True positives (TP)\n",
    "TP = 100\n",
    "\n",
    "# True negatives (TN)\n",
    "TN = 200\n",
    "\n",
    "# False positives (FP)\n",
    "FP = 50\n",
    "\n",
    "# False negatives (FN)\n",
    "FN = 150\n",
    "\n",
    "# Confusion matrix\n",
    "confusion_matrix = [[TP, FP], [FN, TN]]\n",
    "print(confusion_matrix)"
   ]
  },
  {
   "cell_type": "code",
   "execution_count": 9,
   "id": "5ac790be-d5cd-4cc7-b2a2-ad62625ff605",
   "metadata": {},
   "outputs": [
    {
     "name": "stdout",
     "output_type": "stream",
     "text": [
      "Precesion: 0.6666666666666666\n",
      "Recall: 0.4\n"
     ]
    }
   ],
   "source": [
    "precision = TP/(TP + FP)\n",
    "recall = TP/(TP + FN)\n",
    "print('Precesion:', precision)\n",
    "print('Recall:' , recall)"
   ]
  },
  {
   "cell_type": "code",
   "execution_count": null,
   "id": "69aa7555-153a-46b2-bcca-33bc4407d5cf",
   "metadata": {},
   "outputs": [],
   "source": []
  }
 ],
 "metadata": {
  "kernelspec": {
   "display_name": "Python 3 (ipykernel)",
   "language": "python",
   "name": "python3"
  },
  "language_info": {
   "codemirror_mode": {
    "name": "ipython",
    "version": 3
   },
   "file_extension": ".py",
   "mimetype": "text/x-python",
   "name": "python",
   "nbconvert_exporter": "python",
   "pygments_lexer": "ipython3",
   "version": "3.11.8"
  }
 },
 "nbformat": 4,
 "nbformat_minor": 5
}
