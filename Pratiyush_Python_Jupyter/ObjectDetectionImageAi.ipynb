{
 "cells": [
  {
   "cell_type": "code",
   "execution_count": 9,
   "id": "d519f023-f0f9-4944-b59f-aa5aa67f79da",
   "metadata": {},
   "outputs": [
    {
     "name": "stdout",
     "output_type": "stream",
     "text": [
      "person  :  99.95  :  [306, 199, 486, 323]\n",
      "--------------------------------\n",
      "person  :  99.91  :  [216, 190, 396, 342]\n",
      "--------------------------------\n",
      "sofa  :  99.86  :  [115, 201, 607, 392]\n",
      "--------------------------------\n",
      "pottedplant  :  98.97  :  [212, 325, 287, 386]\n",
      "--------------------------------\n"
     ]
    }
   ],
   "source": [
    "from imageai.Detection import ObjectDetection\n",
    "import os\n",
    "\n",
    "execution_path = \"/home/pratiyushp/Downloads/\"\n",
    "\n",
    "detector = ObjectDetection()\n",
    "detector.setModelTypeAsYOLOv3()\n",
    "detector.setModelPath( os.path.join(execution_path , \"yolov3.pt\"))\n",
    "detector.loadModel()\n",
    "detections = detector.detectObjectsFromImage(input_image=os.path.join( execution_path, \"image3.jpg\"), output_image_path=os.path.join(execution_path , \"image3new.jpg\"), minimum_percentage_probability=30)\n",
    "\n",
    "for eachObject in detections:\n",
    "    print(eachObject[\"name\"] , \" : \", eachObject[\"percentage_probability\"], \" : \", eachObject[\"box_points\"] )\n",
    "    print(\"--------------------------------\")"
   ]
  },
  {
   "cell_type": "code",
   "execution_count": 32,
   "id": "04787344-8956-40fe-a7f7-7acba5cd1a0c",
   "metadata": {},
   "outputs": [],
   "source": [
    "from imageai.Detection import ObjectDetection\n",
    "import os\n",
    "\n",
    "execution_path = \"/home/pratiyushp/Downloads/\"\n",
    "\n",
    "detector = ObjectDetection()\n",
    "detector.setModelTypeAsYOLOv3()\n",
    "detector.setModelPath(os.path.join(execution_path, 'yolov3.pt'))\n",
    "detector.loadModel()"
   ]
  },
  {
   "cell_type": "code",
   "execution_count": 33,
   "id": "a03f605f-414f-40fa-a608-408ce25a5238",
   "metadata": {},
   "outputs": [],
   "source": [
    "detections, objects_path = detector.detectObjectsFromImage(input_image = os.path.join(execution_path, 'traffic.jpg'), output_image_path = os.path.join(execution_path, 'trafficNew.jpg'), minimum_percentage_probability = 30, extract_detected_objects = True)"
   ]
  },
  {
   "cell_type": "code",
   "execution_count": 34,
   "id": "a7626303-2b50-4776-a9f9-8bc197e557d9",
   "metadata": {},
   "outputs": [
    {
     "name": "stdout",
     "output_type": "stream",
     "text": [
      "person  :  99.95  :  [254, 102, 343, 380]\n",
      "Object's image saved in /home/pratiyushp/Downloads/\n",
      "-------------------------------------------\n",
      "person  :  99.83  :  [180, 179, 231, 293]\n",
      "Object's image saved in /home/pratiyushp/Downloads/\n",
      "-------------------------------------------\n",
      "person  :  99.69  :  [631, 184, 660, 283]\n",
      "Object's image saved in /home/pratiyushp/Downloads/\n",
      "-------------------------------------------\n",
      "person  :  99.93  :  [91, 173, 143, 290]\n",
      "Object's image saved in /home/pratiyushp/Downloads/\n",
      "-------------------------------------------\n",
      "person  :  99.37  :  [19, 182, 70, 285]\n",
      "Object's image saved in /home/pratiyushp/Downloads/\n",
      "-------------------------------------------\n",
      "person  :  99.9  :  [61, 187, 100, 285]\n",
      "Object's image saved in /home/pratiyushp/Downloads/\n",
      "-------------------------------------------\n",
      "car  :  82.83  :  [484, 178, 650, 303]\n",
      "Object's image saved in /home/pratiyushp/Downloads/\n",
      "-------------------------------------------\n",
      "car  :  59.96  :  [153, 213, 238, 291]\n",
      "Object's image saved in /home/pratiyushp/Downloads/\n",
      "-------------------------------------------\n",
      "motorbike  :  94.55  :  [90, 220, 137, 303]\n",
      "Object's image saved in /home/pratiyushp/Downloads/\n",
      "-------------------------------------------\n",
      "motorbike  :  73.09  :  [183, 214, 233, 299]\n",
      "Object's image saved in /home/pratiyushp/Downloads/\n",
      "-------------------------------------------\n",
      "motorbike  :  92.84  :  [15, 216, 67, 299]\n",
      "Object's image saved in /home/pratiyushp/Downloads/\n",
      "-------------------------------------------\n"
     ]
    }
   ],
   "source": [
    "for eachObject, eachObjectPath in zip(detections, objects_path):\n",
    "    print(eachObject['name'], ' : ', eachObject['percentage_probability'], ' : ', eachObject['box_points'])\n",
    "    print(\"Object's image saved in \" + execution_path)\n",
    "    print('-------------------------------------------')"
   ]
  },
  {
   "cell_type": "code",
   "execution_count": 35,
   "id": "7e992903-0b94-4905-8b00-10997b3d4bd4",
   "metadata": {},
   "outputs": [
    {
     "name": "stdout",
     "output_type": "stream",
     "text": [
      "person  :  93.44  :  [257, 106, 351, 384]\n",
      "Object's image saved in /home/pratiyushp/Downloads/\n",
      "-------------------------------------------\n",
      "person  :  75.3  :  [180, 184, 227, 234]\n",
      "Object's image saved in /home/pratiyushp/Downloads/\n",
      "-------------------------------------------\n",
      "person  :  74.58  :  [52, 189, 96, 291]\n",
      "Object's image saved in /home/pratiyushp/Downloads/\n",
      "-------------------------------------------\n",
      "person  :  63.92  :  [95, 177, 140, 227]\n",
      "Object's image saved in /home/pratiyushp/Downloads/\n",
      "-------------------------------------------\n",
      "truck  :  62.88  :  [483, 179, 650, 311]\n",
      "Object's image saved in /home/pratiyushp/Downloads/\n",
      "-------------------------------------------\n",
      "truck  :  62.53  :  [356, 164, 478, 307]\n",
      "Object's image saved in /home/pratiyushp/Downloads/\n",
      "-------------------------------------------\n",
      "person  :  60.98  :  [178, 186, 232, 290]\n",
      "Object's image saved in /home/pratiyushp/Downloads/\n",
      "-------------------------------------------\n",
      "person  :  60.71  :  [631, 180, 659, 280]\n",
      "Object's image saved in /home/pratiyushp/Downloads/\n",
      "-------------------------------------------\n",
      "person  :  57.75  :  [90, 182, 141, 289]\n",
      "Object's image saved in /home/pratiyushp/Downloads/\n",
      "-------------------------------------------\n",
      "motorcycle  :  56.79  :  [15, 211, 128, 300]\n",
      "Object's image saved in /home/pratiyushp/Downloads/\n",
      "-------------------------------------------\n",
      "motorcycle  :  55.15  :  [78, 215, 135, 303]\n",
      "Object's image saved in /home/pratiyushp/Downloads/\n",
      "-------------------------------------------\n",
      "car  :  54.96  :  [485, 183, 649, 308]\n",
      "Object's image saved in /home/pratiyushp/Downloads/\n",
      "-------------------------------------------\n",
      "person  :  52.78  :  [27, 187, 73, 292]\n",
      "Object's image saved in /home/pratiyushp/Downloads/\n",
      "-------------------------------------------\n"
     ]
    }
   ],
   "source": [
    "from imageai.Detection import ObjectDetection\n",
    "import os\n",
    "\n",
    "execution_path = \"/home/pratiyushp/Downloads/\"\n",
    "detector = ObjectDetection()\n",
    "detector.setModelTypeAsRetinaNet()\n",
    "detector.setModelPath( os.path.join(execution_path , \"retinanet_resnet50_fpn_coco-eeacb38b.pth\"))\n",
    "detector.loadModel()\n",
    "\n",
    "detections, objects_path = detector.detectObjectsFromImage(input_image = os.path.join(execution_path, 'traffic.jpg'), output_image_path = os.path.join(execution_path, 'trafficNewREtinaNet.jpg'), minimum_percentage_probability = 30, extract_detected_objects = True)\n",
    "\n",
    "for eachObject, eachObjectPath in zip(detections, objects_path):\n",
    "    print(eachObject['name'], ' : ', eachObject['percentage_probability'], ' : ', eachObject['box_points'])\n",
    "    print(\"Object's image saved in \" + execution_path)\n",
    "    print('-------------------------------------------')"
   ]
  },
  {
   "cell_type": "code",
   "execution_count": 36,
   "id": "59feb8c9-2a19-4c16-9301-a8850dbf7bbb",
   "metadata": {},
   "outputs": [
    {
     "name": "stdout",
     "output_type": "stream",
     "text": [
      "person  :  99.81  :  [104, 213, 133, 266]\n",
      "Object's image saved in /home/pratiyushp/Downloads/\n",
      "-------------------------------------------\n",
      "person  :  99.68  :  [24, 214, 57, 263]\n",
      "Object's image saved in /home/pratiyushp/Downloads/\n",
      "-------------------------------------------\n",
      "person  :  99.67  :  [246, 104, 356, 395]\n",
      "Object's image saved in /home/pratiyushp/Downloads/\n",
      "-------------------------------------------\n",
      "person  :  98.69  :  [196, 215, 221, 264]\n",
      "Object's image saved in /home/pratiyushp/Downloads/\n",
      "-------------------------------------------\n",
      "bus  :  52.16  :  [396, 184, 445, 283]\n",
      "Object's image saved in /home/pratiyushp/Downloads/\n",
      "-------------------------------------------\n",
      "truck  :  68.68  :  [521, 188, 607, 290]\n",
      "Object's image saved in /home/pratiyushp/Downloads/\n",
      "-------------------------------------------\n",
      "truck  :  65.55  :  [469, 168, 657, 308]\n",
      "Object's image saved in /home/pratiyushp/Downloads/\n",
      "-------------------------------------------\n",
      "truck  :  57.11  :  [357, 164, 474, 298]\n",
      "Object's image saved in /home/pratiyushp/Downloads/\n",
      "-------------------------------------------\n"
     ]
    }
   ],
   "source": [
    "from imageai.Detection import ObjectDetection\n",
    "import os\n",
    "\n",
    "execution_path = \"/home/pratiyushp/Downloads/\"\n",
    "detector = ObjectDetection()\n",
    "detector.setModelTypeAsTinyYOLOv3()\n",
    "detector.setModelPath( os.path.join(execution_path , \"tiny-yolov3.pt\"))\n",
    "detector.loadModel()\n",
    "\n",
    "detections, objects_path = detector.detectObjectsFromImage(input_image = os.path.join(execution_path, 'traffic.jpg'), output_image_path = os.path.join(execution_path, 'trafficNewTinyYOLOv3.jpg'), minimum_percentage_probability = 30, extract_detected_objects = True)\n",
    "\n",
    "for eachObject, eachObjectPath in zip(detections, objects_path):\n",
    "    print(eachObject['name'], ' : ', eachObject['percentage_probability'], ' : ', eachObject['box_points'])\n",
    "    print(\"Object's image saved in \" + execution_path)\n",
    "    print('-------------------------------------------')"
   ]
  },
  {
   "cell_type": "code",
   "execution_count": null,
   "id": "c7641689-f1c3-4509-bf77-10dd300ab8ad",
   "metadata": {},
   "outputs": [],
   "source": []
  },
  {
   "cell_type": "code",
   "execution_count": null,
   "id": "432ae4cd-f1bd-4bdd-a332-a90e86071b16",
   "metadata": {},
   "outputs": [],
   "source": []
  }
 ],
 "metadata": {
  "kernelspec": {
   "display_name": "Python 3 (ipykernel)",
   "language": "python",
   "name": "python3"
  },
  "language_info": {
   "codemirror_mode": {
    "name": "ipython",
    "version": 3
   },
   "file_extension": ".py",
   "mimetype": "text/x-python",
   "name": "python",
   "nbconvert_exporter": "python",
   "pygments_lexer": "ipython3",
   "version": "3.11.8"
  }
 },
 "nbformat": 4,
 "nbformat_minor": 5
}
