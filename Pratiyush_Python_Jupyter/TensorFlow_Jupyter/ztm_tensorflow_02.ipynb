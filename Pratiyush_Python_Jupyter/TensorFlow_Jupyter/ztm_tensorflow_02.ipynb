{
 "cells": [
  {
   "cell_type": "code",
   "execution_count": 10,
   "id": "31318301-8d28-4513-8cde-a2ed779eb81a",
   "metadata": {},
   "outputs": [
    {
     "name": "stdout",
     "output_type": "stream",
     "text": [
      "TensorFlow Version: 2.16.1\n"
     ]
    }
   ],
   "source": [
    "import tensorflow as tf\n",
    "print('TensorFlow Version:', tf.__version__)"
   ]
  },
  {
   "cell_type": "code",
   "execution_count": 11,
   "id": "11569dd1-8d7a-42b5-9674-50139f1b94f4",
   "metadata": {},
   "outputs": [],
   "source": [
    "mnist = tf.keras.datasets.mnist"
   ]
  },
  {
   "cell_type": "code",
   "execution_count": 15,
   "id": "b403e1c3-18d9-4a5d-965f-671622a0e649",
   "metadata": {},
   "outputs": [],
   "source": [
    "(x_train, y_train), (x_test, y_test) = mnist.load_data()\n",
    "x_train, x_test = x_train /255.0, x_test /255.0"
   ]
  },
  {
   "cell_type": "code",
   "execution_count": 16,
   "id": "c91ff9e3-7c91-49a3-82b8-69bde7d1eeef",
   "metadata": {},
   "outputs": [
    {
     "name": "stderr",
     "output_type": "stream",
     "text": [
      "/home/pratiyushp/anaconda3/envs/My_Workspace/lib/python3.11/site-packages/keras/src/layers/reshaping/flatten.py:37: UserWarning: Do not pass an `input_shape`/`input_dim` argument to a layer. When using Sequential models, prefer using an `Input(shape)` object as the first layer in the model instead.\n",
      "  super().__init__(**kwargs)\n"
     ]
    }
   ],
   "source": [
    "model = tf.keras.models.Sequential([\n",
    "    tf.keras.layers.Flatten(input_shape = (28, 28)),\n",
    "    tf.keras.layers.Dense(128, activation = 'relu'),\n",
    "    tf.keras.layers.Dropout(0.2),\n",
    "    tf.keras.layers.Dense(10)\n",
    "])"
   ]
  },
  {
   "cell_type": "code",
   "execution_count": 17,
   "id": "e5a63df2-b935-42b8-9de8-f229083e5ad1",
   "metadata": {},
   "outputs": [
    {
     "data": {
      "text/plain": [
       "array([[-0.6093569 , -0.05038551, -0.14253627,  0.1668219 ,  0.08535983,\n",
       "        -0.48308408,  0.2840574 ,  0.22134303, -0.37792242, -1.0021528 ]],\n",
       "      dtype=float32)"
      ]
     },
     "execution_count": 17,
     "metadata": {},
     "output_type": "execute_result"
    }
   ],
   "source": [
    "predictions = model(x_train[:1]).numpy()\n",
    "predictions"
   ]
  },
  {
   "cell_type": "code",
   "execution_count": 18,
   "id": "b48ba1e4-72d2-43c1-93c6-ad9880830c61",
   "metadata": {},
   "outputs": [
    {
     "data": {
      "text/plain": [
       "array([[0.06124213, 0.10710468, 0.09767601, 0.13308847, 0.12267666,\n",
       "        0.06948481, 0.14964257, 0.14054605, 0.07718999, 0.04134864]],\n",
       "      dtype=float32)"
      ]
     },
     "execution_count": 18,
     "metadata": {},
     "output_type": "execute_result"
    }
   ],
   "source": [
    "tf.nn.softmax(predictions).numpy()"
   ]
  },
  {
   "cell_type": "code",
   "execution_count": 19,
   "id": "4f456027-391a-4f5b-b0be-0caf1c207041",
   "metadata": {},
   "outputs": [],
   "source": [
    "loss_fn = tf.keras.losses.SparseCategoricalCrossentropy(from_logits=True)"
   ]
  },
  {
   "cell_type": "code",
   "execution_count": 20,
   "id": "1fc55000-35f0-4345-a566-0d2a414984ea",
   "metadata": {},
   "outputs": [
    {
     "data": {
      "text/plain": [
       "2.666647"
      ]
     },
     "execution_count": 20,
     "metadata": {},
     "output_type": "execute_result"
    }
   ],
   "source": [
    "loss_fn(y_train[:1], predictions).numpy()"
   ]
  },
  {
   "cell_type": "code",
   "execution_count": 21,
   "id": "543c0cc3-2f31-44aa-a2e9-11eb6612a258",
   "metadata": {},
   "outputs": [],
   "source": [
    "model.compile(optimizer='adam',\n",
    "              loss=loss_fn,\n",
    "              metrics=['accuracy'])"
   ]
  },
  {
   "cell_type": "code",
   "execution_count": 23,
   "id": "7e5c4f5b-0e2a-4e42-92b8-e222f27d02d5",
   "metadata": {},
   "outputs": [
    {
     "name": "stdout",
     "output_type": "stream",
     "text": [
      "Epoch 1/5\n",
      "\u001b[1m1875/1875\u001b[0m \u001b[32m━━━━━━━━━━━━━━━━━━━━\u001b[0m\u001b[37m\u001b[0m \u001b[1m6s\u001b[0m 3ms/step - accuracy: 0.8602 - loss: 0.4826\n",
      "Epoch 2/5\n",
      "\u001b[1m1875/1875\u001b[0m \u001b[32m━━━━━━━━━━━━━━━━━━━━\u001b[0m\u001b[37m\u001b[0m \u001b[1m5s\u001b[0m 3ms/step - accuracy: 0.9562 - loss: 0.1523\n",
      "Epoch 3/5\n",
      "\u001b[1m1875/1875\u001b[0m \u001b[32m━━━━━━━━━━━━━━━━━━━━\u001b[0m\u001b[37m\u001b[0m \u001b[1m5s\u001b[0m 3ms/step - accuracy: 0.9662 - loss: 0.1115\n",
      "Epoch 4/5\n",
      "\u001b[1m1875/1875\u001b[0m \u001b[32m━━━━━━━━━━━━━━━━━━━━\u001b[0m\u001b[37m\u001b[0m \u001b[1m5s\u001b[0m 2ms/step - accuracy: 0.9721 - loss: 0.0892\n",
      "Epoch 5/5\n",
      "\u001b[1m1875/1875\u001b[0m \u001b[32m━━━━━━━━━━━━━━━━━━━━\u001b[0m\u001b[37m\u001b[0m \u001b[1m5s\u001b[0m 3ms/step - accuracy: 0.9770 - loss: 0.0745\n"
     ]
    },
    {
     "data": {
      "text/plain": [
       "<keras.src.callbacks.history.History at 0x7fb89051bd50>"
      ]
     },
     "execution_count": 23,
     "metadata": {},
     "output_type": "execute_result"
    }
   ],
   "source": [
    "model.fit(x_train, y_train, epochs=5)"
   ]
  },
  {
   "cell_type": "code",
   "execution_count": 24,
   "id": "f293e2b2-29ac-484f-aa9c-ce94d5a746ba",
   "metadata": {},
   "outputs": [
    {
     "name": "stdout",
     "output_type": "stream",
     "text": [
      "313/313 - 0s - 2ms/step - accuracy: 0.9762 - loss: 0.0742\n"
     ]
    },
    {
     "data": {
      "text/plain": [
       "[0.07420622557401657, 0.9761999845504761]"
      ]
     },
     "execution_count": 24,
     "metadata": {},
     "output_type": "execute_result"
    }
   ],
   "source": [
    "model.evaluate(x_test,  y_test, verbose=2)"
   ]
  },
  {
   "cell_type": "code",
   "execution_count": 25,
   "id": "d41a54fa-d627-41cb-a2fd-b3cfbcbda784",
   "metadata": {},
   "outputs": [],
   "source": [
    "probability_model = tf.keras.Sequential([\n",
    "  model,\n",
    "  tf.keras.layers.Softmax()\n",
    "])"
   ]
  },
  {
   "cell_type": "code",
   "execution_count": 26,
   "id": "73d1c235-dabb-4578-ba39-e516219cf3a1",
   "metadata": {},
   "outputs": [
    {
     "data": {
      "text/plain": [
       "<tf.Tensor: shape=(5, 10), dtype=float32, numpy=\n",
       "array([[7.9707672e-09, 4.9891207e-09, 1.0207302e-05, 5.3718755e-05,\n",
       "        6.9263838e-11, 5.9098657e-08, 1.1933689e-13, 9.9993384e-01,\n",
       "        1.3831364e-06, 6.2482655e-07],\n",
       "       [2.2202677e-07, 2.1526410e-05, 9.9995911e-01, 9.6392232e-06,\n",
       "        9.3392932e-16, 4.2907350e-06, 1.6580479e-06, 5.1228256e-15,\n",
       "        3.6347440e-06, 5.3800692e-13],\n",
       "       [1.4923505e-06, 9.9735141e-01, 8.7150000e-04, 6.5028712e-06,\n",
       "        2.3145576e-05, 3.5268899e-05, 2.4146722e-05, 8.8194455e-04,\n",
       "        7.5754721e-04, 4.7003072e-05],\n",
       "       [9.9957639e-01, 1.1423963e-09, 7.7460209e-05, 2.0137945e-07,\n",
       "        1.4488008e-05, 1.5993562e-06, 1.8897088e-04, 1.5528082e-06,\n",
       "        2.7165248e-07, 1.3898774e-04],\n",
       "       [2.7245003e-06, 2.1088992e-10, 5.6563385e-06, 2.3966746e-07,\n",
       "        9.9913943e-01, 2.0021175e-06, 7.7139903e-06, 9.3499912e-06,\n",
       "        2.0966436e-07, 8.3266577e-04]], dtype=float32)>"
      ]
     },
     "execution_count": 26,
     "metadata": {},
     "output_type": "execute_result"
    }
   ],
   "source": [
    "probability_model(x_test[:5])"
   ]
  },
  {
   "cell_type": "code",
   "execution_count": null,
   "id": "de34f25a-8f2d-496a-9ec8-47dc6ecd37ed",
   "metadata": {},
   "outputs": [],
   "source": []
  }
 ],
 "metadata": {
  "kernelspec": {
   "display_name": "Python 3 (ipykernel)",
   "language": "python",
   "name": "python3"
  },
  "language_info": {
   "codemirror_mode": {
    "name": "ipython",
    "version": 3
   },
   "file_extension": ".py",
   "mimetype": "text/x-python",
   "name": "python",
   "nbconvert_exporter": "python",
   "pygments_lexer": "ipython3",
   "version": "3.11.8"
  }
 },
 "nbformat": 4,
 "nbformat_minor": 5
}
