{
 "cells": [
  {
   "cell_type": "code",
   "execution_count": 1,
   "id": "2743a531-44fb-4e4e-844e-bc46846de614",
   "metadata": {},
   "outputs": [
    {
     "data": {
      "text/plain": [
       "1.0"
      ]
     },
     "execution_count": 1,
     "metadata": {},
     "output_type": "execute_result"
    }
   ],
   "source": [
    "import numpy as np\n",
    "from sklearn.linear_model import LinearRegression\n",
    "x = np.array([[1, 1], [1, 2], [2, 2], [2, 3]])\n",
    "y = np.dot(x, np.array([1, 2])) + 3\n",
    "reg = LinearRegression().fit(x, y)\n",
    "reg.score(x, y)"
   ]
  },
  {
   "cell_type": "code",
   "execution_count": 2,
   "id": "0b22c4f6-bbde-4ed3-90b0-4c1910c28f93",
   "metadata": {},
   "outputs": [
    {
     "data": {
      "text/plain": [
       "array([1., 2.])"
      ]
     },
     "execution_count": 2,
     "metadata": {},
     "output_type": "execute_result"
    }
   ],
   "source": [
    "reg.coef_"
   ]
  },
  {
   "cell_type": "code",
   "execution_count": 3,
   "id": "5b075fd4-aed4-46de-a6f7-5297c3676526",
   "metadata": {},
   "outputs": [
    {
     "data": {
      "text/plain": [
       "array([16.])"
      ]
     },
     "execution_count": 3,
     "metadata": {},
     "output_type": "execute_result"
    }
   ],
   "source": [
    "reg.intercept_\n",
    "reg.predict(np.array([[3, 5]]))"
   ]
  },
  {
   "cell_type": "code",
   "execution_count": 4,
   "id": "7816f179-2c54-446f-89b9-47b14084460d",
   "metadata": {},
   "outputs": [
    {
     "name": "stdout",
     "output_type": "stream",
     "text": [
      "[ 6  8  9 11]\n"
     ]
    }
   ],
   "source": [
    "print(y)"
   ]
  },
  {
   "cell_type": "code",
   "execution_count": 5,
   "id": "31a701b4-85f1-4a5d-ba22-30621256c8b3",
   "metadata": {},
   "outputs": [
    {
     "name": "stdout",
     "output_type": "stream",
     "text": [
      "[[1 1]\n",
      " [1 2]\n",
      " [2 2]\n",
      " [2 3]]\n"
     ]
    }
   ],
   "source": [
    "print(x)"
   ]
  },
  {
   "cell_type": "code",
   "execution_count": 15,
   "id": "793bd76f-d19b-4ef4-9e33-78fa00635b87",
   "metadata": {},
   "outputs": [
    {
     "name": "stdout",
     "output_type": "stream",
     "text": [
      "LinearRegression()\n"
     ]
    }
   ],
   "source": [
    "sample_weight = [1, 2, 1, 2] \n",
    "print(LinearRegression().fit(x, y, sample_weight=sample_weight))"
   ]
  },
  {
   "cell_type": "code",
   "execution_count": 9,
   "id": "4fa47e2a-1397-493d-a803-97440a328e2f",
   "metadata": {},
   "outputs": [
    {
     "name": "stdout",
     "output_type": "stream",
     "text": [
      "LinearRegression()\n"
     ]
    }
   ],
   "source": [
    "print(LinearRegression().fit(x, y))"
   ]
  },
  {
   "cell_type": "code",
   "execution_count": 13,
   "id": "d34b720b-7aa6-4905-b9c6-2a14469430de",
   "metadata": {},
   "outputs": [
    {
     "name": "stdout",
     "output_type": "stream",
     "text": [
      "{'copy_X': True, 'fit_intercept': True, 'n_jobs': None, 'positive': False}\n"
     ]
    }
   ],
   "source": [
    "print(LinearRegression().get_params(deep=True))"
   ]
  },
  {
   "cell_type": "code",
   "execution_count": 23,
   "id": "f261b802-08f4-42e0-9b09-30424f676b96",
   "metadata": {},
   "outputs": [
    {
     "name": "stdout",
     "output_type": "stream",
     "text": [
      "1.0\n"
     ]
    }
   ],
   "source": [
    "score = reg.score(x, y)\n",
    "print(score)"
   ]
  },
  {
   "cell_type": "code",
   "execution_count": 43,
   "id": "b5c0ae1c-4bc7-4daa-a9b1-1df3e0d5d81a",
   "metadata": {},
   "outputs": [
    {
     "name": "stdout",
     "output_type": "stream",
     "text": [
      "Coefficient: \n",
      " [938.23786125]\n",
      "Mean Squared Error: 20755.39\n",
      "Coefficient of determination: 0.47\n"
     ]
    }
   ],
   "source": [
    "import matplotlib.pyplot as plt\n",
    "import numpy as np\n",
    "\n",
    "from sklearn import datasets, linear_model\n",
    "from sklearn.metrics import mean_squared_error, r2_score\n",
    "\n",
    "diabetes_x, diabetes_y = datasets.load_diabetes(return_X_y = True)\n",
    "\n",
    "diabetes_x = diabetes_x[:, np.newaxis, 2]\n",
    "\n",
    "diabetes_x_train = diabetes_x[:-20]\n",
    "diabetes_x_test = diabetes_x[-20:]\n",
    "\n",
    "diabetes_y_train = diabetes_y[:-20]\n",
    "diabetes_y_test = diabetes_y[-20:]\n",
    "\n",
    "regr = linear_model.LinearRegression()\n",
    "\n",
    "regr.fit(diabetes_x_train, diabetes_y_train)\n",
    "\n",
    "diabetes_y_pred = regr.predict(diabetes_x_test)\n",
    "\n",
    "print('Coefficient: \\n', regr.coef_)\n",
    "print('Mean Squared Error: %.2f' % mean_squared_error(diabetes_y_test, diabetes_x_test))\n",
    "print(\"Coefficient of determination: %.2f\" % r2_score(diabetes_y_test, diabetes_y_pred))"
   ]
  },
  {
   "cell_type": "code",
   "execution_count": 44,
   "id": "c4ee302a-702e-4fe3-a5eb-3d596388fb0f",
   "metadata": {},
   "outputs": [
    {
     "data": {
      "image/png": "[encoded data removed]",
      "text/plain": [
       "<Figure size 640x480 with 1 Axes>"
      ]
     },
     "metadata": {},
     "output_type": "display_data"
    }
   ],
   "source": [
    "plt.scatter(diabetes_x_test, diabetes_y_test, color = 'red')\n",
    "plt.plot(diabetes_x_test, diabetes_y_pred, color = 'green', linewidth = 3)\n",
    "\n",
    "plt.xticks(())\n",
    "plt.yticks(())\n",
    "\n",
    "plt.show()"
   ]
  },
  {
   "cell_type": "code",
   "execution_count": 45,
   "id": "e3a59be6-3682-46eb-ba59-e5646d696718",
   "metadata": {},
   "outputs": [
    {
     "ename": "AttributeError",
     "evalue": "'LinearRegression' object has no attribute 'accuracy_score'",
     "output_type": "error",
     "traceback": [
      "\u001b[0;31m---------------------------------------------------------------------------\u001b[0m",
      "\u001b[0;31mAttributeError\u001b[0m                            Traceback (most recent call last)",
      "Cell \u001b[0;32mIn[45], line 1\u001b[0m\n\u001b[0;32m----> 1\u001b[0m regr\u001b[38;5;241m.\u001b[39maccuracy_score(y_true, x_true)\n",
      "\u001b[0;31mAttributeError\u001b[0m: 'LinearRegression' object has no attribute 'accuracy_score'"
     ]
    }
   ],
   "source": [
    "regr.accuracy_score(y_true, x_true)"
   ]
  },
  {
   "cell_type": "code",
   "execution_count": 37,
   "id": "47ba5851-52a9-42d6-8d3c-d0cd123a4345",
   "metadata": {},
   "outputs": [
    {
     "name": "stdout",
     "output_type": "stream",
     "text": [
      "[ 0.85554207  3.5148897  -0.61352016 ...  0.07466843  2.54967425\n",
      "  1.81481992]\n"
     ]
    }
   ],
   "source": []
  },
  {
   "cell_type": "code",
   "execution_count": 41,
   "id": "fbe5175c-54f4-4763-83a4-2f404ee1b17a",
   "metadata": {},
   "outputs": [],
   "source": [
    "import numpy as np\n",
    "\n",
    "# Generate independent variables (features)\n",
    "num_samples = 10000\n",
    "num_features = 5\n",
    "X = np.random.rand(num_samples, num_features)\n",
    "\n",
    "# Generate coefficients for linear relationship\n",
    "coefficients = np.random.rand(num_features)\n",
    "\n",
    "# Generate noise\n",
    "noise = np.random.normal(0, 1, num_samples)\n",
    "\n",
    "# Calculate dependent variable (target)\n",
    "y = np.dot(X, coefficients) + noise"
   ]
  },
  {
   "cell_type": "code",
   "execution_count": 42,
   "id": "e27dab02-c5d3-46d3-90ca-d99c8adb081e",
   "metadata": {},
   "outputs": [
    {
     "name": "stdout",
     "output_type": "stream",
     "text": [
      "[ 0.19934046  2.79582712  1.8022521  ...  0.09783218 -1.32049496\n",
      "  1.9186071 ]\n"
     ]
    }
   ],
   "source": [
    "print(y)"
   ]
  },
  {
   "cell_type": "code",
   "execution_count": null,
   "id": "691c49c8-ff1f-4e78-99d7-741a26880b05",
   "metadata": {},
   "outputs": [],
   "source": []
  }
 ],
 "metadata": {
  "kernelspec": {
   "display_name": "Python 3 (ipykernel)",
   "language": "python",
   "name": "python3"
  },
  "language_info": {
   "codemirror_mode": {
    "name": "ipython",
    "version": 3
   },
   "file_extension": ".py",
   "mimetype": "text/x-python",
   "name": "python",
   "nbconvert_exporter": "python",
   "pygments_lexer": "ipython3",
   "version": "3.11.8"
  }
 },
 "nbformat": 4,
 "nbformat_minor": 5
}
