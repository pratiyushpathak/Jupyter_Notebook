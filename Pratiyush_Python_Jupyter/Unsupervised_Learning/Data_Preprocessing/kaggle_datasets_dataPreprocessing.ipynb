{
 "cells": [
  {
   "cell_type": "code",
   "execution_count": 28,
   "id": "15e32c71-9137-490b-a28e-fd55592b27f7",
   "metadata": {},
   "outputs": [],
   "source": [
    "import numpy as np\n",
    "import pandas as pd\n",
    "import os"
   ]
  },
  {
   "cell_type": "code",
   "execution_count": 29,
   "id": "c2185683-cd0d-4869-9b19-494560994d50",
   "metadata": {},
   "outputs": [
    {
     "name": "stdout",
     "output_type": "stream",
     "text": [
      "Loading the Datasets...\n",
      "dataset: (15, 4)\n"
     ]
    }
   ],
   "source": [
    "dataset = pd.read_csv('/home/pratiyushp/Downloads/datasets/Data001.csv')\n",
    "print('Loading the Datasets...')\n",
    "\n",
    "print('dataset: %s'%(str(dataset.shape)))"
   ]
  },
  {
   "cell_type": "code",
   "execution_count": 30,
   "id": "ca4979a7-0403-43d5-aea4-0bd270a089ca",
   "metadata": {},
   "outputs": [
    {
     "data": {
      "text/html": [
       "<div>\n",
       "<style scoped>\n",
       "    .dataframe tbody tr th:only-of-type {\n",
       "        vertical-align: middle;\n",
       "    }\n",
       "\n",
       "    .dataframe tbody tr th {\n",
       "        vertical-align: top;\n",
       "    }\n",
       "\n",
       "    .dataframe thead th {\n",
       "        text-align: right;\n",
       "    }\n",
       "</style>\n",
       "<table border=\"1\" class=\"dataframe\">\n",
       "  <thead>\n",
       "    <tr style=\"text-align: right;\">\n",
       "      <th></th>\n",
       "      <th>Country</th>\n",
       "      <th>Age</th>\n",
       "      <th>Salary</th>\n",
       "      <th>Purchased</th>\n",
       "    </tr>\n",
       "  </thead>\n",
       "  <tbody>\n",
       "    <tr>\n",
       "      <th>0</th>\n",
       "      <td>India</td>\n",
       "      <td>34.0</td>\n",
       "      <td>92000.0</td>\n",
       "      <td>Yes</td>\n",
       "    </tr>\n",
       "    <tr>\n",
       "      <th>1</th>\n",
       "      <td>Sri lanka</td>\n",
       "      <td>22.0</td>\n",
       "      <td>25000.0</td>\n",
       "      <td>Yes</td>\n",
       "    </tr>\n",
       "    <tr>\n",
       "      <th>2</th>\n",
       "      <td>China</td>\n",
       "      <td>31.0</td>\n",
       "      <td>74000.0</td>\n",
       "      <td>Yes</td>\n",
       "    </tr>\n",
       "    <tr>\n",
       "      <th>3</th>\n",
       "      <td>Sri lanka</td>\n",
       "      <td>29.0</td>\n",
       "      <td>NaN</td>\n",
       "      <td>No</td>\n",
       "    </tr>\n",
       "    <tr>\n",
       "      <th>4</th>\n",
       "      <td>China</td>\n",
       "      <td>55.0</td>\n",
       "      <td>98000.0</td>\n",
       "      <td>Yes</td>\n",
       "    </tr>\n",
       "    <tr>\n",
       "      <th>5</th>\n",
       "      <td>India</td>\n",
       "      <td>24.0</td>\n",
       "      <td>30000.0</td>\n",
       "      <td>No</td>\n",
       "    </tr>\n",
       "    <tr>\n",
       "      <th>6</th>\n",
       "      <td>Sri lanka</td>\n",
       "      <td>28.0</td>\n",
       "      <td>40000.0</td>\n",
       "      <td>No</td>\n",
       "    </tr>\n",
       "    <tr>\n",
       "      <th>7</th>\n",
       "      <td>India</td>\n",
       "      <td>NaN</td>\n",
       "      <td>60000.0</td>\n",
       "      <td>No</td>\n",
       "    </tr>\n",
       "    <tr>\n",
       "      <th>8</th>\n",
       "      <td>China</td>\n",
       "      <td>51.0</td>\n",
       "      <td>89000.0</td>\n",
       "      <td>Yes</td>\n",
       "    </tr>\n",
       "    <tr>\n",
       "      <th>9</th>\n",
       "      <td>India</td>\n",
       "      <td>44.0</td>\n",
       "      <td>78000.0</td>\n",
       "      <td>Yes</td>\n",
       "    </tr>\n",
       "    <tr>\n",
       "      <th>10</th>\n",
       "      <td>Sri lanka</td>\n",
       "      <td>21.0</td>\n",
       "      <td>20000.0</td>\n",
       "      <td>No</td>\n",
       "    </tr>\n",
       "    <tr>\n",
       "      <th>11</th>\n",
       "      <td>China</td>\n",
       "      <td>25.0</td>\n",
       "      <td>30000.0</td>\n",
       "      <td>Yes</td>\n",
       "    </tr>\n",
       "    <tr>\n",
       "      <th>12</th>\n",
       "      <td>India</td>\n",
       "      <td>33.0</td>\n",
       "      <td>45000.0</td>\n",
       "      <td>Yes</td>\n",
       "    </tr>\n",
       "    <tr>\n",
       "      <th>13</th>\n",
       "      <td>India</td>\n",
       "      <td>42.0</td>\n",
       "      <td>65000.0</td>\n",
       "      <td>Yes</td>\n",
       "    </tr>\n",
       "    <tr>\n",
       "      <th>14</th>\n",
       "      <td>Sri lanka</td>\n",
       "      <td>33.0</td>\n",
       "      <td>22000.0</td>\n",
       "      <td>No</td>\n",
       "    </tr>\n",
       "  </tbody>\n",
       "</table>\n",
       "</div>"
      ],
      "text/plain": [
       "      Country   Age   Salary Purchased\n",
       "0       India  34.0  92000.0       Yes\n",
       "1   Sri lanka  22.0  25000.0       Yes\n",
       "2       China  31.0  74000.0       Yes\n",
       "3   Sri lanka  29.0      NaN        No\n",
       "4       China  55.0  98000.0       Yes\n",
       "5       India  24.0  30000.0        No\n",
       "6   Sri lanka  28.0  40000.0        No\n",
       "7       India   NaN  60000.0        No\n",
       "8       China  51.0  89000.0       Yes\n",
       "9       India  44.0  78000.0       Yes\n",
       "10  Sri lanka  21.0  20000.0        No\n",
       "11      China  25.0  30000.0       Yes\n",
       "12      India  33.0  45000.0       Yes\n",
       "13      India  42.0  65000.0       Yes\n",
       "14  Sri lanka  33.0  22000.0        No"
      ]
     },
     "execution_count": 30,
     "metadata": {},
     "output_type": "execute_result"
    }
   ],
   "source": [
    "dataset"
   ]
  },
  {
   "cell_type": "code",
   "execution_count": 31,
   "id": "736b88f0-85dc-4a65-a4ce-af802038aadf",
   "metadata": {},
   "outputs": [],
   "source": [
    "X = dataset.iloc[:, :-1].values\n",
    "Y = dataset.iloc[:,3].values"
   ]
  },
  {
   "cell_type": "code",
   "execution_count": 32,
   "id": "ae36fd14-ac41-416f-b6c0-a434958c0030",
   "metadata": {},
   "outputs": [
    {
     "name": "stdout",
     "output_type": "stream",
     "text": [
      "X: [['India' 34.0 92000.0]\n",
      " ['Sri lanka' 22.0 25000.0]\n",
      " ['China' 31.0 74000.0]\n",
      " ['Sri lanka' 29.0 nan]\n",
      " ['China' 55.0 98000.0]\n",
      " ['India' 24.0 30000.0]\n",
      " ['Sri lanka' 28.0 40000.0]\n",
      " ['India' nan 60000.0]\n",
      " ['China' 51.0 89000.0]\n",
      " ['India' 44.0 78000.0]\n",
      " ['Sri lanka' 21.0 20000.0]\n",
      " ['China' 25.0 30000.0]\n",
      " ['India' 33.0 45000.0]\n",
      " ['India' 42.0 65000.0]\n",
      " ['Sri lanka' 33.0 22000.0]]\n",
      "--------------------------------------------\n",
      "Y: ['Yes' 'Yes' 'Yes' 'No' 'Yes' 'No' 'No' 'No' 'Yes' 'Yes' 'No' 'Yes' 'Yes'\n",
      " 'Yes' 'No']\n"
     ]
    }
   ],
   "source": [
    "print('X: %s'%(str(X)))\n",
    "print('--------------------------------------------')\n",
    "print('Y: %s'%(str(Y)))"
   ]
  },
  {
   "cell_type": "code",
   "execution_count": 33,
   "id": "ef464e40-df68-4bb5-a296-a63e14c2d2de",
   "metadata": {},
   "outputs": [],
   "source": [
    "from sklearn.impute import SimpleImputer\n",
    "imputer = SimpleImputer(strategy = 'mean')\n",
    "imputer = imputer.fit(X[:, 1:3])\n",
    "X[:, 1:3] = imputer.transform(X[:, 1:3])"
   ]
  },
  {
   "cell_type": "code",
   "execution_count": 34,
   "id": "b6d25853-d561-4661-b8e0-5dc645398c71",
   "metadata": {},
   "outputs": [
    {
     "name": "stdout",
     "output_type": "stream",
     "text": [
      "X: [['India' 34.0 92000.0]\n",
      " ['Sri lanka' 22.0 25000.0]\n",
      " ['China' 31.0 74000.0]\n",
      " ['Sri lanka' 29.0 54857.142857142855]\n",
      " ['China' 55.0 98000.0]\n",
      " ['India' 24.0 30000.0]\n",
      " ['Sri lanka' 28.0 40000.0]\n",
      " ['India' 33.714285714285715 60000.0]\n",
      " ['China' 51.0 89000.0]\n",
      " ['India' 44.0 78000.0]\n",
      " ['Sri lanka' 21.0 20000.0]\n",
      " ['China' 25.0 30000.0]\n",
      " ['India' 33.0 45000.0]\n",
      " ['India' 42.0 65000.0]\n",
      " ['Sri lanka' 33.0 22000.0]]\n"
     ]
    }
   ],
   "source": [
    "print('X: %s'%(str(X)))"
   ]
  },
  {
   "cell_type": "code",
   "execution_count": 35,
   "id": "9cb9c0e4-5c87-420d-9e89-dc06087270fb",
   "metadata": {},
   "outputs": [
    {
     "data": {
      "text/plain": [
       "array([1, 2, 0, 2, 0, 1, 2, 1, 0, 1, 2, 0, 1, 1, 2], dtype=object)"
      ]
     },
     "execution_count": 35,
     "metadata": {},
     "output_type": "execute_result"
    }
   ],
   "source": [
    "from sklearn.preprocessing import LabelEncoder, OneHotEncoder\n",
    "\n",
    "labelencoder_X = LabelEncoder()\n",
    "X[:, 0] = labelencoder_X.fit_transform(X[:,0])\n",
    "X[:, 0]"
   ]
  },
  {
   "cell_type": "markdown",
   "id": "9316ffa3-cb4b-4148-ab54-1597e47723af",
   "metadata": {},
   "source": [
    "**# Applying the OneHotEncoder to the first column[0]**"
   ]
  },
  {
   "cell_type": "code",
   "execution_count": 36,
   "id": "03514cb0-8e82-4ec5-9767-518ab0bc812f",
   "metadata": {},
   "outputs": [
    {
     "ename": "TypeError",
     "evalue": "OneHotEncoder.__init__() got an unexpected keyword argument 'categorical_features'",
     "output_type": "error",
     "traceback": [
      "\u001b[0;31m---------------------------------------------------------------------------\u001b[0m",
      "\u001b[0;31mTypeError\u001b[0m                                 Traceback (most recent call last)",
      "Cell \u001b[0;32mIn[36], line 2\u001b[0m\n\u001b[1;32m      1\u001b[0m \u001b[38;5;66;03m# Applying the OneHotEncoder to the first column[0]\u001b[39;00m\n\u001b[0;32m----> 2\u001b[0m onhotencoder \u001b[38;5;241m=\u001b[39m OneHotEncoder(categorical_features \u001b[38;5;241m=\u001b[39m [\u001b[38;5;241m0\u001b[39m])\n\u001b[1;32m      3\u001b[0m X\u001b[38;5;241m=\u001b[39monhotencoder\u001b[38;5;241m.\u001b[39mfit_transform(X)\u001b[38;5;241m.\u001b[39mtoarray()\n",
      "\u001b[0;31mTypeError\u001b[0m: OneHotEncoder.__init__() got an unexpected keyword argument 'categorical_features'"
     ]
    }
   ],
   "source": [
    "# Applying the OneHotEncoder to the first column[0]\n",
    "onhotencoder = OneHotEncoder(categorical_features = [0])\n",
    "X=onhotencoder.fit_transform(X).toarray()"
   ]
  },
  {
   "cell_type": "code",
   "execution_count": 37,
   "id": "976ac2d7-cfbb-4789-8625-80d1bc95922b",
   "metadata": {},
   "outputs": [],
   "source": [
    "from sklearn.compose import ColumnTransformer\n",
    "from sklearn.preprocessing import OneHotEncoder\n",
    "\n",
    "column_transformer = ColumnTransformer(\n",
    "    transformers = [\n",
    "        ('encoder', OneHotEncoder(), [0])\n",
    "    ],\n",
    "    remainder = 'passthrough'\n",
    ")\n",
    "\n",
    "X = column_transformer.fit_transform(X)"
   ]
  },
  {
   "cell_type": "code",
   "execution_count": 38,
   "id": "d4edd2f2-4aba-4db9-b273-c2cd478de1a9",
   "metadata": {},
   "outputs": [
    {
     "data": {
      "text/plain": [
       "array([1, 1, 1, 0, 1, 0, 0, 0, 1, 1, 0, 1, 1, 1, 0])"
      ]
     },
     "execution_count": 38,
     "metadata": {},
     "output_type": "execute_result"
    }
   ],
   "source": [
    "labelencoder_Y = LabelEncoder()\n",
    "Y = labelencoder_X.fit_transform(Y)\n",
    "Y"
   ]
  },
  {
   "cell_type": "code",
   "execution_count": 39,
   "id": "969ca77e-3ce5-4b9a-9096-b5b765689cf8",
   "metadata": {},
   "outputs": [],
   "source": [
    "from sklearn.model_selection import train_test_split\n",
    "\n",
    "X_train, X_test, Y_train, Y_test = train_test_split(X, Y, test_size =0.2, random_state = 0)"
   ]
  },
  {
   "cell_type": "code",
   "execution_count": 40,
   "id": "5ec90e7c-0275-4bc2-ba32-546ca2224a77",
   "metadata": {},
   "outputs": [
    {
     "name": "stdout",
     "output_type": "stream",
     "text": [
      "X_train: (12, 5)\n",
      "---------------\n",
      "X_test: (3, 5)\n",
      "---------------\n",
      "Y_train: (12,)\n",
      "---------------\n",
      "Y_test: (3,)\n",
      "---------------\n"
     ]
    }
   ],
   "source": [
    "print('X_train: %s'%(str(X_train.shape)))\n",
    "print('---------------')\n",
    "print('X_test: %s'%(str(X_test.shape)))\n",
    "print('---------------')\n",
    "print('Y_train: %s'%(str(Y_train.shape)))\n",
    "print('---------------')\n",
    "print('Y_test: %s'%(str(Y_test.shape)))\n",
    "print('---------------')"
   ]
  },
  {
   "cell_type": "code",
   "execution_count": 41,
   "id": "181d8f7d-67ef-4f7c-93a5-3c108fa1c3dd",
   "metadata": {},
   "outputs": [],
   "source": [
    "from sklearn.preprocessing import StandardScaler\n",
    "\n",
    "sc_X = StandardScaler()\n",
    "\n",
    "X_train = sc_X.fit_transform(X_train)\n",
    "\n",
    "X_test = sc_X.transform(X_test)"
   ]
  },
  {
   "cell_type": "code",
   "execution_count": 42,
   "id": "347350d5-11e8-46c6-a5c4-612789ad474c",
   "metadata": {},
   "outputs": [
    {
     "data": {
      "text/plain": [
       "array([[-5.77350269e-01,  1.00000000e+00, -5.77350269e-01,\n",
       "         1.13100526e+00,  8.68162753e-01],\n",
       "       [-5.77350269e-01, -1.00000000e+00,  1.73205081e+00,\n",
       "        -7.99435932e-02, -1.31570762e+00],\n",
       "       [ 1.73205081e+00, -1.00000000e+00, -5.77350269e-01,\n",
       "         2.34195411e+00,  1.64811646e+00],\n",
       "       [ 1.73205081e+00, -1.00000000e+00, -5.77350269e-01,\n",
       "        -3.00116112e-01,  7.12172013e-01],\n",
       "       [-5.77350269e-01,  1.00000000e+00, -5.77350269e-01,\n",
       "         9.10832742e-01,  3.61192846e-01],\n",
       "       [-5.77350269e-01, -1.00000000e+00,  1.73205081e+00,\n",
       "        -1.40097871e+00, -1.39370299e+00],\n",
       "       [-5.77350269e-01,  1.00000000e+00, -5.77350269e-01,\n",
       "        -1.31055071e-03,  1.66204420e-01],\n",
       "       [ 1.73205081e+00, -1.00000000e+00, -5.77350269e-01,\n",
       "        -9.60633669e-01, -1.00372614e+00],\n",
       "       [-5.77350269e-01, -1.00000000e+00,  1.73205081e+00,\n",
       "        -5.20288631e-01, -3.43551036e-02],\n",
       "       [-5.77350269e-01,  1.00000000e+00, -5.77350269e-01,\n",
       "         3.01426663e-02,  1.41413035e+00],\n",
       "       [-5.77350269e-01,  1.00000000e+00, -5.77350269e-01,\n",
       "        -1.07071993e+00, -1.00372614e+00],\n",
       "       [-5.77350269e-01,  1.00000000e+00, -5.77350269e-01,\n",
       "        -7.99435932e-02, -4.18760858e-01]])"
      ]
     },
     "execution_count": 42,
     "metadata": {},
     "output_type": "execute_result"
    }
   ],
   "source": [
    "X_train"
   ]
  },
  {
   "cell_type": "code",
   "execution_count": 43,
   "id": "793bdff5-1965-46b0-b045-bf2d9984421c",
   "metadata": {},
   "outputs": [
    {
     "data": {
      "text/plain": [
       "array([[-0.57735027, -1.        ,  1.73205081, -1.29089245, -1.19871456],\n",
       "       [-0.57735027, -1.        ,  1.73205081, -0.63037489, -0.61374928],\n",
       "       [ 1.73205081, -1.        , -0.57735027,  1.90160908,  1.29713729]])"
      ]
     },
     "execution_count": 43,
     "metadata": {},
     "output_type": "execute_result"
    }
   ],
   "source": [
    "X_test"
   ]
  },
  {
   "cell_type": "code",
   "execution_count": null,
   "id": "ba58db00-df46-45ee-84e6-d8336ff1a5dc",
   "metadata": {},
   "outputs": [],
   "source": []
  },
  {
   "cell_type": "code",
   "execution_count": null,
   "id": "fbbe65b0-4c8f-42f9-9b3e-eefbbcb9a3c0",
   "metadata": {},
   "outputs": [],
   "source": []
  }
 ],
 "metadata": {
  "kernelspec": {
   "display_name": "Python 3 (ipykernel)",
   "language": "python",
   "name": "python3"
  },
  "language_info": {
   "codemirror_mode": {
    "name": "ipython",
    "version": 3
   },
   "file_extension": ".py",
   "mimetype": "text/x-python",
   "name": "python",
   "nbconvert_exporter": "python",
   "pygments_lexer": "ipython3",
   "version": "3.11.8"
  }
 },
 "nbformat": 4,
 "nbformat_minor": 5
}
