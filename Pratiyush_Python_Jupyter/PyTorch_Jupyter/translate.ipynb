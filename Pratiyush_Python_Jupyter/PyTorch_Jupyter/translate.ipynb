{
 "cells": [
  {
   "cell_type": "code",
   "execution_count": 1,
   "id": "ebf3592a-efdd-4687-93e5-328c3f1b875b",
   "metadata": {},
   "outputs": [],
   "source": [
    "import string\n",
    "import numpy as np\n",
    "import pandas as pd\n",
    "import random\n",
    "\n",
    "import torch\n",
    "import torch.nn as nn\n",
    "import torch.optim as optim\n",
    "import torch.nn.functional as F\n",
    "\n",
    "device = torch.device('cuda' if torch.cuda.is_available() else 'cpu')"
   ]
  },
  {
   "cell_type": "code",
   "execution_count": 3,
   "id": "313118bc-654a-4993-a974-6a8eb158bb73",
   "metadata": {},
   "outputs": [],
   "source": [
    "data = pd.read_csv('/home/pratiyushp/Downloads/datasets/train.csv')\n",
    "data_copy = data.copy()\n",
    "data.drop(data.columns[0], axis=1, inplace = True)"
   ]
  },
  {
   "cell_type": "code",
   "execution_count": 4,
   "id": "f1b408a3-9963-43d4-b449-15ebe96a1d27",
   "metadata": {},
   "outputs": [],
   "source": [
    "data['len_hindi'] = data['hindi'].apply(lambda x: len(x.split(' ')))\n",
    "data['len_english'] = data['english'].apply(lambda x: len(x.split(' ')))"
   ]
  },
  {
   "cell_type": "markdown",
   "id": "e2b576e3-8189-4a00-ac2f-34eabf2d351d",
   "metadata": {},
   "source": [
    "**Checking for null values**\n",
    "\n",
    "checking for null values is generally the first step in the data analaysis. Here also we can check if any null values are present in the given dataset or not."
   ]
  },
  {
   "cell_type": "code",
   "execution_count": 5,
   "id": "3699769d-2a03-41e7-808a-00d86a463503",
   "metadata": {},
   "outputs": [
    {
     "data": {
      "text/plain": [
       "hindi          0\n",
       "english        0\n",
       "len_hindi      0\n",
       "len_english    0\n",
       "dtype: int64"
      ]
     },
     "execution_count": 5,
     "metadata": {},
     "output_type": "execute_result"
    }
   ],
   "source": [
    "data.isnull().sum()"
   ]
  },
  {
   "cell_type": "markdown",
   "id": "7b590c23-5a8b-465e-a4f6-3d486af13266",
   "metadata": {},
   "source": [
    "**Dropping duplicates from the data**\n",
    "It may be the case that there are some duplicate entries present in the dataset. We can remove such entries."
   ]
  },
  {
   "cell_type": "code",
   "execution_count": 10,
   "id": "8ad3bd6c-627a-4259-912e-bb9f974adfc1",
   "metadata": {},
   "outputs": [
    {
     "name": "stdout",
     "output_type": "stream",
     "text": [
      "Shape of the dataset before removing the duplicates: (102296, 4)\n",
      "Shape of the dataset after removing the duplicates: (102296, 4)\n"
     ]
    }
   ],
   "source": [
    "print(f\"Shape of the dataset before removing the duplicates: {data.shape}\")\n",
    "data.drop_duplicates(inplace = True)\n",
    "print(f\"Shape of the dataset after removing the duplicates: {data.shape}\")"
   ]
  },
  {
   "cell_type": "code",
   "execution_count": 11,
   "id": "9e0db85a-e026-46ec-8bd5-351802bb91ee",
   "metadata": {},
   "outputs": [],
   "source": [
    "data['hindi'] = data['hindi'].apply(lambda x: x.lower())\n",
    "data['english'] = data['english'].apply(lambda x: x.lower())"
   ]
  },
  {
   "cell_type": "markdown",
   "id": "64e7ada2-e1a0-478d-ba31-3b41f62eb725",
   "metadata": {},
   "source": [
    "**Removing punctuations**\n",
    "\n",
    "There are different kinds of punctuations present in both hindi and english sentences. It's better to remove such punctuations in the data cleaning."
   ]
  },
  {
   "cell_type": "code",
   "execution_count": 12,
   "id": "09537796-fffc-4450-bce2-2e9b00cf25e3",
   "metadata": {},
   "outputs": [],
   "source": [
    "def remove_punctuations(sentence):\n",
    "    punctuations = list(string.punctuation)\n",
    "    cleaned = ''\n",
    "    for letter in sentence:\n",
    "        if letter not in punctuations:\n",
    "            cleaned += letter\n",
    "    return cleaned"
   ]
  },
  {
   "cell_type": "code",
   "execution_count": 13,
   "id": "63d15f12-ffde-44af-bf8d-cd9bf36a1d54",
   "metadata": {},
   "outputs": [],
   "source": [
    "data['hindi']=data['hindi'].apply(lambda x: remove_punctuations(x))\n",
    "data['english']=data['english'].apply(lambda x: remove_punctuations(x))"
   ]
  },
  {
   "cell_type": "markdown",
   "id": "2ce6647c-24a2-4aaa-ad18-4afa0a6705e6",
   "metadata": {},
   "source": [
    "**Removing mixed sentences (those samples which have english words in the hindi sentences)**\n",
    "\n",
    "On observing the data, we find out that there are some samples in which english words are present between the hindi sentences. We treat these sentences as outliers and can remove them from the dataset."
   ]
  },
  {
   "cell_type": "code",
   "execution_count": 14,
   "id": "e4af3eda-746a-4bfc-9605-388e58cc69e9",
   "metadata": {},
   "outputs": [],
   "source": [
    "def is_mixed(sentence):\n",
    "    letters = 'abcdefgijklmnopqrstuvwxyz'\n",
    "    for ch in letters:\n",
    "        if ch in sentence:\n",
    "            return True\n",
    "    return False"
   ]
  },
  {
   "cell_type": "code",
   "execution_count": 17,
   "id": "b333f9e7-417c-4d06-b322-32d7eb8de220",
   "metadata": {},
   "outputs": [
    {
     "data": {
      "text/html": [
       "<div>\n",
       "<style scoped>\n",
       "    .dataframe tbody tr th:only-of-type {\n",
       "        vertical-align: middle;\n",
       "    }\n",
       "\n",
       "    .dataframe tbody tr th {\n",
       "        vertical-align: top;\n",
       "    }\n",
       "\n",
       "    .dataframe thead th {\n",
       "        text-align: right;\n",
       "    }\n",
       "</style>\n",
       "<table border=\"1\" class=\"dataframe\">\n",
       "  <thead>\n",
       "    <tr style=\"text-align: right;\">\n",
       "      <th></th>\n",
       "      <th>hindi</th>\n",
       "      <th>english</th>\n",
       "      <th>len_hindi</th>\n",
       "      <th>len_english</th>\n",
       "      <th>is_mixed</th>\n",
       "    </tr>\n",
       "  </thead>\n",
       "  <tbody>\n",
       "    <tr>\n",
       "      <th>0</th>\n",
       "      <td>एल सालवाडोर मे जिन दोनो पक्षों ने सिविलयुद्ध स...</td>\n",
       "      <td>in el salvador both sides that withdrew from t...</td>\n",
       "      <td>22</td>\n",
       "      <td>23</td>\n",
       "      <td>False</td>\n",
       "    </tr>\n",
       "    <tr>\n",
       "      <th>1</th>\n",
       "      <td>मैं उनके साथ कोई लेना देना नहीं है</td>\n",
       "      <td>i have nothing to do with them</td>\n",
       "      <td>8</td>\n",
       "      <td>7</td>\n",
       "      <td>False</td>\n",
       "    </tr>\n",
       "    <tr>\n",
       "      <th>2</th>\n",
       "      <td>हटाओ रिक</td>\n",
       "      <td>fuck them rick</td>\n",
       "      <td>2</td>\n",
       "      <td>3</td>\n",
       "      <td>False</td>\n",
       "    </tr>\n",
       "    <tr>\n",
       "      <th>3</th>\n",
       "      <td>क्योंकि यह एक खुशियों भरी फ़िल्म है</td>\n",
       "      <td>because its a happy film</td>\n",
       "      <td>7</td>\n",
       "      <td>5</td>\n",
       "      <td>False</td>\n",
       "    </tr>\n",
       "    <tr>\n",
       "      <th>4</th>\n",
       "      <td>the thought reaching the eyes</td>\n",
       "      <td>the thought reaching the eyes</td>\n",
       "      <td>5</td>\n",
       "      <td>5</td>\n",
       "      <td>True</td>\n",
       "    </tr>\n",
       "  </tbody>\n",
       "</table>\n",
       "</div>"
      ],
      "text/plain": [
       "                                               hindi  \\\n",
       "0  एल सालवाडोर मे जिन दोनो पक्षों ने सिविलयुद्ध स...   \n",
       "1                 मैं उनके साथ कोई लेना देना नहीं है   \n",
       "2                                           हटाओ रिक   \n",
       "3                क्योंकि यह एक खुशियों भरी फ़िल्म है   \n",
       "4                      the thought reaching the eyes   \n",
       "\n",
       "                                             english  len_hindi  len_english  \\\n",
       "0  in el salvador both sides that withdrew from t...         22           23   \n",
       "1                     i have nothing to do with them          8            7   \n",
       "2                                     fuck them rick          2            3   \n",
       "3                           because its a happy film          7            5   \n",
       "4                      the thought reaching the eyes          5            5   \n",
       "\n",
       "   is_mixed  \n",
       "0     False  \n",
       "1     False  \n",
       "2     False  \n",
       "3     False  \n",
       "4      True  "
      ]
     },
     "execution_count": 17,
     "metadata": {},
     "output_type": "execute_result"
    }
   ],
   "source": [
    "data['is_mixed'] = data['hindi'].apply(lambda x: is_mixed(x))\n",
    "data.head()"
   ]
  },
  {
   "cell_type": "code",
   "execution_count": null,
   "id": "17ee97ae-f953-4b00-a579-05650ceef8ff",
   "metadata": {},
   "outputs": [],
   "source": []
  }
 ],
 "metadata": {
  "kernelspec": {
   "display_name": "Python 3 (ipykernel)",
   "language": "python",
   "name": "python3"
  },
  "language_info": {
   "codemirror_mode": {
    "name": "ipython",
    "version": 3
   },
   "file_extension": ".py",
   "mimetype": "text/x-python",
   "name": "python",
   "nbconvert_exporter": "python",
   "pygments_lexer": "ipython3",
   "version": "3.11.8"
  }
 },
 "nbformat": 4,
 "nbformat_minor": 5
}
