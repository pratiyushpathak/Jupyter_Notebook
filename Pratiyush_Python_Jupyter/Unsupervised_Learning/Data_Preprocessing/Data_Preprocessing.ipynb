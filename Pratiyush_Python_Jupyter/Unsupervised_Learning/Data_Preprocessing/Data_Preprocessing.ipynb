{
 "cells": [
  {
   "cell_type": "code",
   "execution_count": 40,
   "id": "12c6d470-a83f-4044-8d09-d29972d8ef32",
   "metadata": {},
   "outputs": [
    {
     "name": "stdout",
     "output_type": "stream",
     "text": [
      "   Country   Age   Salary  Purchased\n",
      "0   France  44.0  72000.0          0\n",
      "1    Spain  27.0  48000.0          1\n",
      "2  Germany  30.0  54000.0          0\n",
      "3    Spain  38.0  61000.0          0\n",
      "4  Germany  40.0      NaN          1\n",
      "5   France  35.0  58000.0          1\n",
      "6    Spain   NaN  52000.0          0\n",
      "7   France  48.0  79000.0          1\n",
      "8  Germany  50.0  83000.0          0\n",
      "9   France  37.0  67000.0          1\n"
     ]
    }
   ],
   "source": [
    "import pandas as pd\n",
    "import numpy as np\n",
    "import matplotlib.pyplot as plt\n",
    "dataset = pd.read_csv('/home/pratiyushp/Downloads/datasets/data.csv')\n",
    "print(dataset)"
   ]
  },
  {
   "cell_type": "code",
   "execution_count": 41,
   "id": "feac0fdd-a5dc-4562-a2c3-6b1559f9c9d9",
   "metadata": {},
   "outputs": [
    {
     "data": {
      "text/plain": [
       "array([['France', 44.0, 72000.0],\n",
       "       ['Spain', 27.0, 48000.0],\n",
       "       ['Germany', 30.0, 54000.0],\n",
       "       ['Spain', 38.0, 61000.0],\n",
       "       ['Germany', 40.0, nan],\n",
       "       ['France', 35.0, 58000.0],\n",
       "       ['Spain', nan, 52000.0],\n",
       "       ['France', 48.0, 79000.0],\n",
       "       ['Germany', 50.0, 83000.0],\n",
       "       ['France', 37.0, 67000.0]], dtype=object)"
      ]
     },
     "execution_count": 41,
     "metadata": {},
     "output_type": "execute_result"
    }
   ],
   "source": [
    "x = dataset.iloc[:,:-1].values\n",
    "x"
   ]
  },
  {
   "cell_type": "code",
   "execution_count": 42,
   "id": "8a5e7275-3206-4192-8b02-7036701e3ee7",
   "metadata": {},
   "outputs": [
    {
     "data": {
      "text/plain": [
       "array([0, 1, 0, 0, 1, 1, 0, 1, 0, 1])"
      ]
     },
     "execution_count": 42,
     "metadata": {},
     "output_type": "execute_result"
    }
   ],
   "source": [
    "y = dataset.iloc[:,3].values\n",
    "y"
   ]
  },
  {
   "cell_type": "code",
   "execution_count": 43,
   "id": "9dfc2f27-9f2c-40f4-8dcc-2c715c7495b8",
   "metadata": {},
   "outputs": [
    {
     "data": {
      "text/plain": [
       "array([['France', 44.0, 72000.0],\n",
       "       ['Spain', 27.0, 48000.0],\n",
       "       ['Germany', 30.0, 54000.0],\n",
       "       ['Spain', 38.0, 61000.0],\n",
       "       ['Germany', 40.0, 2000],\n",
       "       ['France', 35.0, 58000.0],\n",
       "       ['Spain', 2000, 52000.0],\n",
       "       ['France', 48.0, 79000.0],\n",
       "       ['Germany', 50.0, 83000.0],\n",
       "       ['France', 37.0, 67000.0]], dtype=object)"
      ]
     },
     "execution_count": 43,
     "metadata": {},
     "output_type": "execute_result"
    }
   ],
   "source": [
    "# from sklearn.impute import SimpleImputer\n",
    "# imputer = SimpleImputer(strategy='mean')\n",
    "# imputer = imputer.fit(x[:,1:3])\n",
    "# x[:,1:3] = imputer.transform(x[:,1:3])\n",
    "# x\n",
    "from sklearn.impute import SimpleImputer\n",
    "imputer = SimpleImputer(strategy='constant', fill_value = 2000)\n",
    "imputer = imputer.fit(x[:,1:3])\n",
    "x[:,1:3] = imputer.transform(x[:,1:3])\n",
    "x"
   ]
  },
  {
   "cell_type": "markdown",
   "id": "5c71fba1-7450-4b31-a7d3-575db5a050d9",
   "metadata": {},
   "source": [
    "**Encoding the Country Variable**"
   ]
  },
  {
   "cell_type": "code",
   "execution_count": 44,
   "id": "494e8ba4-531a-4e05-a668-4f69ae2d99c7",
   "metadata": {},
   "outputs": [
    {
     "data": {
      "text/plain": [
       "array([[0, 44.0, 72000.0],\n",
       "       [2, 27.0, 48000.0],\n",
       "       [1, 30.0, 54000.0],\n",
       "       [2, 38.0, 61000.0],\n",
       "       [1, 40.0, 2000],\n",
       "       [0, 35.0, 58000.0],\n",
       "       [2, 2000, 52000.0],\n",
       "       [0, 48.0, 79000.0],\n",
       "       [1, 50.0, 83000.0],\n",
       "       [0, 37.0, 67000.0]], dtype=object)"
      ]
     },
     "execution_count": 44,
     "metadata": {},
     "output_type": "execute_result"
    }
   ],
   "source": [
    "from sklearn.preprocessing import LabelEncoder\n",
    "label_encoder_x = LabelEncoder()\n",
    "x[:, 0] = label_encoder_x.fit_transform(x[:, 0])\n",
    "x"
   ]
  },
  {
   "cell_type": "markdown",
   "id": "f830eba0-c481-4276-a5d5-25e7365047ee",
   "metadata": {},
   "source": [
    "**Dummy Encoding**"
   ]
  },
  {
   "cell_type": "code",
   "execution_count": 45,
   "id": "06274db7-1227-4eeb-895d-159e3c740588",
   "metadata": {},
   "outputs": [
    {
     "data": {
      "text/plain": [
       "array([0, 1, 0, 0, 1, 1, 0, 1, 0, 1])"
      ]
     },
     "execution_count": 45,
     "metadata": {},
     "output_type": "execute_result"
    }
   ],
   "source": [
    "labelencoder_y = LabelEncoder()\n",
    "y = labelencoder_y.fit_transform(y)\n",
    "y"
   ]
  },
  {
   "cell_type": "code",
   "execution_count": 46,
   "id": "9ed39fbf-0c78-4841-b0ce-ec7847dca403",
   "metadata": {},
   "outputs": [],
   "source": [
    "from sklearn.model_selection import train_test_split\n",
    "x_train, x_test, y_train, y_test = train_test_split(x, y, test_size = 0.2, random_state = 0)"
   ]
  },
  {
   "cell_type": "markdown",
   "id": "007e62a1-f1ca-43ea-bf40-54232ab9925e",
   "metadata": {},
   "source": [
    "**Feature Scaling**"
   ]
  },
  {
   "cell_type": "code",
   "execution_count": 47,
   "id": "6e918d9e-0c49-4757-ad20-22b89ceb67ea",
   "metadata": {},
   "outputs": [],
   "source": [
    "from sklearn.preprocessing import StandardScaler"
   ]
  },
  {
   "cell_type": "code",
   "execution_count": 48,
   "id": "9d8d78dd-d998-4cf8-a9b4-dde81b71930a",
   "metadata": {},
   "outputs": [
    {
     "data": {
      "text/plain": [
       "array([[ 0.13483997, -0.37552711, -2.38838247],\n",
       "       [-0.94387981, -0.38015136,  0.54769054],\n",
       "       [ 1.21355975, -0.3955655 , -0.31054618],\n",
       "       [ 1.21355975,  2.64564534, -0.12986477],\n",
       "       [-0.94387981, -0.3631958 ,  1.08973479],\n",
       "       [ 1.21355975, -0.37860994,  0.27666842],\n",
       "       [-0.94387981, -0.36936145,  0.77354231],\n",
       "       [-0.94387981, -0.38323418,  0.14115736]])"
      ]
     },
     "execution_count": 48,
     "metadata": {},
     "output_type": "execute_result"
    }
   ],
   "source": [
    "st_x = StandardScaler()\n",
    "x_train = st_x.fit_transform(x_train)\n",
    "x_train"
   ]
  },
  {
   "cell_type": "code",
   "execution_count": 49,
   "id": "23bb2c62-4980-464a-90b3-4635d459c6ca",
   "metadata": {},
   "outputs": [
    {
     "data": {
      "text/plain": [
       "array([[0.8651600275073515, 30.390941256877753, 54000.03952405983],\n",
       "       [0.8651600275073515, 50.360112966537464, 82998.72958379115]],\n",
       "      dtype=object)"
      ]
     },
     "execution_count": 49,
     "metadata": {},
     "output_type": "execute_result"
    }
   ],
   "source": [
    "x_test - st_x.transform(x_test)"
   ]
  },
  {
   "cell_type": "code",
   "execution_count": 65,
   "id": "e1246f2d-759f-4196-bd73-39b9f0de1ebc",
   "metadata": {},
   "outputs": [
    {
     "data": {
      "image/png": "[encoded data removed]",
      "text/plain": [
       "<Figure size 1000x800 with 1 Axes>"
      ]
     },
     "metadata": {},
     "output_type": "display_data"
    }
   ],
   "source": [
    "plt.figure(figsize = (10, 8))\n",
    "plt.scatter(x_train[:,-1], y_train)\n",
    "plt.xlabel('x_train')\n",
    "plt.ylabel('y_train')\n",
    "plt.title('Scatter plot of x_train vs y_train')\n",
    "plt.show()"
   ]
  },
  {
   "cell_type": "code",
   "execution_count": null,
   "id": "6fe9bd43-8aa6-4884-9db2-39573c8f1963",
   "metadata": {},
   "outputs": [],
   "source": []
  }
 ],
 "metadata": {
  "kernelspec": {
   "display_name": "Python 3 (ipykernel)",
   "language": "python",
   "name": "python3"
  },
  "language_info": {
   "codemirror_mode": {
    "name": "ipython",
    "version": 3
   },
   "file_extension": ".py",
   "mimetype": "text/x-python",
   "name": "python",
   "nbconvert_exporter": "python",
   "pygments_lexer": "ipython3",
   "version": "3.11.8"
  }
 },
 "nbformat": 4,
 "nbformat_minor": 5
}
